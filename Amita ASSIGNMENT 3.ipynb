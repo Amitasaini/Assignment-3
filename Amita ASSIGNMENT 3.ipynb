{
 "cells": [
  {
   "cell_type": "markdown",
   "id": "fb31f2be",
   "metadata": {},
   "source": [
    "# Web Scraping - Assignment 3"
   ]
  },
  {
   "cell_type": "markdown",
   "id": "7ddca9e7",
   "metadata": {},
   "source": [
    "Instructions:\n",
    "• All questions are compulsory.\n",
    "\n",
    "• In each of the questions you have to automate the process. You do not have to click on any button, click any clickable element, enter keywords in search boxes manually. Each process has to be performed via coding.\n",
    "\n",
    "• Q1 and Q2 are connected questions i.e. after attempting Q1 proceed to Q2. Do not write whole code from beginning for Q2.\n",
    "\n",
    "• You may use any web scraping library and tools.\n",
    "\n",
    "• The question can be attempted in various ways; the correctness of question depends on the output.\n",
    "\n",
    "• If you encounter any Null values during scraping, you may replace it by hyphen."
   ]
  },
  {
   "cell_type": "markdown",
   "id": "d35ff5d0",
   "metadata": {},
   "source": [
    "Q1.Write a python program which searches all the product under a particular product from www.amazon.in. The product to be \n",
    "   searched will be taken as input from user. For e.g. If user input is ‘guitar’. Then search for guitars."
   ]
  },
  {
   "cell_type": "code",
   "execution_count": 89,
   "id": "b1e61359",
   "metadata": {},
   "outputs": [
    {
     "name": "stdout",
     "output_type": "stream",
     "text": [
      "<selenium.webdriver.chrome.webdriver.WebDriver (session=\"d1d671634cdb3f06b57c7bdcc8347cb7\")>\n"
     ]
    }
   ],
   "source": [
    "# Importing necessary Libraries\n",
    "\n",
    "import selenium\n",
    "from selenium import webdriver\n",
    "from selenium.webdriver.chrome.service import Service\n",
    "\n",
    "s=Service(\"C:/Users/Downloads/chromedriver.exe\")\n",
    "driver=webdriver.Chrome(service=s)\n",
    "print(driver)\n",
    "import pandas as pd\n",
    "from selenium.webdriver.common.by import By \n",
    "import time"
   ]
  },
  {
   "cell_type": "code",
   "execution_count": 90,
   "id": "174408fe",
   "metadata": {},
   "outputs": [],
   "source": [
    "# open url www.amazon.in\n",
    "url = \"https://amazon.in\"\n",
    "driver.get(url)"
   ]
  },
  {
   "cell_type": "code",
   "execution_count": 91,
   "id": "028c0fc4",
   "metadata": {},
   "outputs": [],
   "source": [
    "# giving the \"guitar\" input to the webpage\n",
    "driver.find_element(By.XPATH,'//input[@type=\"text\"]').send_keys(\"guitar\") "
   ]
  },
  {
   "cell_type": "code",
   "execution_count": 92,
   "id": "5a155269",
   "metadata": {},
   "outputs": [],
   "source": [
    "# clicking on the search button\n",
    "driver.find_element(By.XPATH,'//input[@id=\"nav-search-submit-button\"]').click()\n",
    "time.sleep(3)"
   ]
  },
  {
   "cell_type": "markdown",
   "id": "284fc8e0",
   "metadata": {},
   "source": [
    "Q 2. In the above question, now scrape the following details of each product listed in first 3 pages of your search results and save it in a data frame and csv. In case if any product has less than 3 pages in search results then scrape all the products available under that product name. Details to be scraped are: \"Brand Name\", \"Name of the Product\",\"Price\", \"Return/Exchange\", \"Expected Delivery\", \"Availability\", and “Product URL”. In case, if any of the details are missing for any of the product then replace it by “-“."
   ]
  },
  {
   "cell_type": "code",
   "execution_count": 93,
   "id": "2efd9672",
   "metadata": {},
   "outputs": [],
   "source": [
    "# Empty Lists\n",
    "\n",
    "brand_name = []\n",
    "Product = []\n",
    "Rating = []\n",
    "number_of_ratings = []\n",
    "Price = []\n",
    "return_exchange = []\n",
    "expected_delivery = []\n",
    "Availability = []\n",
    "other_details = []"
   ]
  },
  {
   "cell_type": "code",
   "execution_count": 94,
   "id": "63699200",
   "metadata": {},
   "outputs": [],
   "source": [
    "# Page Urls\n",
    "\n",
    "page_url = []\n",
    "pages = driver.find_elements(By.XPATH,'//span[@class=\"s-pagination-strip\"]//a')\n",
    "for i in pages:\n",
    "    page_url.append(i.get_attribute(\"href\"))"
   ]
  },
  {
   "cell_type": "code",
   "execution_count": 95,
   "id": "aeb0931f",
   "metadata": {},
   "outputs": [],
   "source": [
    "# Brand Links\n",
    "\n",
    "brand_links = []\n",
    "for i in page_url:\n",
    "    driver.get(i)\n",
    "    time.sleep(5)\n",
    "    links = driver.find_elements(By.XPATH,'//h2[@class=\"a-size-mini a-spacing-none a-color-base s-line-clamp-4\"]//a')\n",
    "    for i in links:\n",
    "        brand_links.append(i.get_attribute(\"href\"))"
   ]
  },
  {
   "cell_type": "code",
   "execution_count": 99,
   "id": "f3e689d7",
   "metadata": {},
   "outputs": [
    {
     "ename": "NameError",
     "evalue": "name 'URL' is not defined",
     "output_type": "error",
     "traceback": [
      "\u001b[1;31m---------------------------------------------------------------------------\u001b[0m",
      "\u001b[1;31mNameError\u001b[0m                                 Traceback (most recent call last)",
      "\u001b[1;32m~\\AppData\\Local\\Temp/ipykernel_9576/2087237875.py\u001b[0m in \u001b[0;36m<module>\u001b[1;34m\u001b[0m\n\u001b[0;32m      1\u001b[0m \u001b[1;32mfrom\u001b[0m \u001b[0mtqdm\u001b[0m \u001b[1;32mimport\u001b[0m \u001b[0mtqdm\u001b[0m\u001b[1;33m\u001b[0m\u001b[1;33m\u001b[0m\u001b[0m\n\u001b[1;32m----> 2\u001b[1;33m \u001b[1;32mfor\u001b[0m \u001b[0mi\u001b[0m \u001b[1;32min\u001b[0m \u001b[0mtqdm\u001b[0m\u001b[1;33m(\u001b[0m\u001b[0mURL\u001b[0m\u001b[1;33m)\u001b[0m\u001b[1;33m:\u001b[0m\u001b[1;33m\u001b[0m\u001b[1;33m\u001b[0m\u001b[0m\n\u001b[0m\u001b[0;32m      3\u001b[0m     \u001b[0mdriver\u001b[0m\u001b[1;33m.\u001b[0m\u001b[0mget\u001b[0m\u001b[1;33m(\u001b[0m\u001b[0mi\u001b[0m\u001b[1;33m)\u001b[0m\u001b[1;33m\u001b[0m\u001b[1;33m\u001b[0m\u001b[0m\n\u001b[0;32m      4\u001b[0m     \u001b[0mtime\u001b[0m\u001b[1;33m.\u001b[0m\u001b[0msleep\u001b[0m\u001b[1;33m(\u001b[0m\u001b[1;36m2\u001b[0m\u001b[1;33m)\u001b[0m\u001b[1;33m\u001b[0m\u001b[1;33m\u001b[0m\u001b[0m\n\u001b[0;32m      5\u001b[0m \u001b[1;33m\u001b[0m\u001b[0m\n",
      "\u001b[1;31mNameError\u001b[0m: name 'URL' is not defined"
     ]
    }
   ],
   "source": [
    "from tqdm import tqdm\n",
    "for i in tqdm(URL):\n",
    "    driver.get(i)\n",
    "    time.sleep(2)\n",
    "    \n",
    "    # Extracting Brand Name via Xpath\n",
    "    try:\n",
    "        brand_name=driver.find_element(By.XPATH,'//a[@id=\"bylineInfo\"]')\n",
    "        brand_name.append(brand.text) \n",
    "    except NoSuchElementException:\n",
    "        brand_name.append('-')\n",
    "        \n",
    "    time.sleep(1)\n",
    "      # Extracting product name via Xpath\n",
    "    try:\n",
    "        product =driver.find_element(By.XPATH,'//span[@id=\"productTitle\"]')\n",
    "        Product.append(product.text)\n",
    "    except NoSuchElementException:\n",
    "        Product.append('-')\n",
    "    time.sleep(1)\n",
    "    \n",
    "    # Extracting Rating via Xpath\n",
    "    try:\n",
    "        rating=driver.find_element(By.XPATH,'//span[@class=\"a-size-medium a-color-base\"]')\n",
    "        Rating.append(rating.text)\n",
    "    except NoSuchElementException:\n",
    "        Rating.append('-')\n",
    "    time.sleep(1)\n",
    "      # Extracting No of Ratings via Xpath\n",
    "    try:\n",
    "        rating_count=driver.find_element(By.XPATH,'//span[@class=\"a-size-base a-color-secondary\"]')\n",
    "        number_of_ratings.append(rating_count.text)\n",
    "    except NoSuchElementException:\n",
    "        number_of_ratings.append('-')\n",
    "    time.sleep(1)\n",
    "    \n",
    "    # Extracting Price via Xpath\n",
    "    try:\n",
    "        price=driver.find_element(By.XPATH,'//span[@id=\"priceblock_dealprice\"]')\n",
    "        Price.append(price.text)\n",
    "    except NoSuchElementException:\n",
    "        Price.append('-')\n",
    "    time.sleep(1)\n",
    "    \n",
    "    # Extracting Return or exchange detail via Xpath\n",
    "    try:\n",
    "        replacement=driver.find_element(By.XPATH,'//*[@id=\"RETURNS_POLICY\"]/span/div[2]/a')\n",
    "        return_exchange.append(replacement.text)\n",
    "    except NoSuchElementException:\n",
    "        Return_exchange.append('-')\n",
    "    time.sleep(1)\n",
    "     # Extracting Expected Delivery via Xpath\n",
    "    try:\n",
    "        delivery=driver.find_element(By.XPATH,'//div[@id=\"ddmDeliveryMessage\"]/b')\n",
    "        expected_delivery.append(delivery.text)\n",
    "    except NoSuchElementException:\n",
    "        excpected_delivery.append('-')\n",
    "    time.sleep(1)\n",
    "    \n",
    "    # Extracting Availability via Xath\n",
    "    try:\n",
    "        availability=driver.find_element(By.XPATH,'//span[@class=\"a-size-medium a-color-success\"]')\n",
    "        Availability.append(availability.text)\n",
    "    except NoSuchElementException:\n",
    "        Availability.append('-')\n",
    "    time.sleep(1)\n",
    "    \n",
    "    # Extracting other details via Xpath\n",
    "    try:\n",
    "        other=driver.find_element(By.XPATH,'//ul[@class=\"a-unordered-list a-vertical a-spacing-mini\"]')\n",
    "        other_details.append(other.text)\n",
    "    except NoSuchElementException:\n",
    "        other_details.append('-')\n",
    "    time.sleep(1)    "
   ]
  },
  {
   "cell_type": "code",
   "execution_count": 100,
   "id": "fb082a1a",
   "metadata": {},
   "outputs": [
    {
     "ename": "NameError",
     "evalue": "name 'URL' is not defined",
     "output_type": "error",
     "traceback": [
      "\u001b[1;31m---------------------------------------------------------------------------\u001b[0m",
      "\u001b[1;31mNameError\u001b[0m                                 Traceback (most recent call last)",
      "\u001b[1;32m~\\AppData\\Local\\Temp/ipykernel_9576/1567574860.py\u001b[0m in \u001b[0;36m<module>\u001b[1;34m\u001b[0m\n\u001b[0;32m      1\u001b[0m Guitar=pd.DataFrame({'brand':brand_name,'Product':product_name,'Rating':rating,'No. of ratings':number_of_ratings,'Price':price,\n\u001b[0;32m      2\u001b[0m                         \u001b[1;34m'Return/Exchange'\u001b[0m\u001b[1;33m:\u001b[0m\u001b[0mreturn_exchange\u001b[0m\u001b[1;33m,\u001b[0m\u001b[1;34m'Expected Delivery'\u001b[0m\u001b[1;33m:\u001b[0m\u001b[0mexpected_delivery\u001b[0m\u001b[1;33m,\u001b[0m\u001b[1;34m'Availability'\u001b[0m\u001b[1;33m:\u001b[0m\u001b[0mavailability\u001b[0m\u001b[1;33m,\u001b[0m\u001b[1;33m\u001b[0m\u001b[1;33m\u001b[0m\u001b[0m\n\u001b[1;32m----> 3\u001b[1;33m                         'Other Details':other_details,'URL':URL})\n\u001b[0m\u001b[0;32m      4\u001b[0m \u001b[0mprint\u001b[0m\u001b[1;33m(\u001b[0m\u001b[1;34m'\\033[1m'\u001b[0m\u001b[1;33m+\u001b[0m\u001b[1;34m'Amazon Guitar offers :'\u001b[0m\u001b[1;33m+\u001b[0m\u001b[1;34m'\\033[0m'\u001b[0m\u001b[1;33m)\u001b[0m\u001b[1;33m\u001b[0m\u001b[1;33m\u001b[0m\u001b[0m\n\u001b[0;32m      5\u001b[0m \u001b[0mGuitar\u001b[0m\u001b[1;33m\u001b[0m\u001b[1;33m\u001b[0m\u001b[0m\n",
      "\u001b[1;31mNameError\u001b[0m: name 'URL' is not defined"
     ]
    }
   ],
   "source": [
    "Guitar=pd.DataFrame({'brand':brand_name,'Product':product_name,'Rating':rating,'No. of ratings':number_of_ratings,'Price':price,\n",
    "                        'Return/Exchange':return_exchange,'Expected Delivery':expected_delivery,'Availability':availability,\n",
    "                        'Other Details':other_details,'URL':URL})\n",
    "print('\\033[1m'+'Amazon Guitar offers :'+'\\033[0m')\n",
    "Guitar"
   ]
  },
  {
   "cell_type": "markdown",
   "id": "6d851738",
   "metadata": {},
   "source": [
    "Q3.Write a python program to access the search bar and search button on images google.com and scrape 10 images each for  \n",
    "   keywords\n",
    "    ‘fruits’, ‘cars’ and ‘Machine Learning’, ‘Guitar’, ‘Cakes’."
   ]
  },
  {
   "cell_type": "code",
   "execution_count": 3,
   "id": "6b9505cb",
   "metadata": {},
   "outputs": [
    {
     "name": "stdout",
     "output_type": "stream",
     "text": [
      "<selenium.webdriver.chrome.webdriver.WebDriver (session=\"538e5e06bb5a1ff491a286847417032c\")>\n"
     ]
    }
   ],
   "source": [
    "# Importing necessary Libraries\n",
    "\n",
    "import selenium\n",
    "from selenium import webdriver\n",
    "from selenium.webdriver.chrome.service import Service\n",
    "\n",
    "s=Service(\"C:/Users/Downloads/chromedriver.exe\")\n",
    "driver=webdriver.Chrome(service=s)\n",
    "print(driver)\n",
    "import pandas as pd\n",
    "from selenium.webdriver.common.by import By \n",
    "import time"
   ]
  },
  {
   "cell_type": "code",
   "execution_count": 5,
   "id": "4e3765ee",
   "metadata": {},
   "outputs": [],
   "source": [
    "# Let's open the url \"images.google.com\"\n",
    "\n",
    "driver.get(\"https://images.google.com/?gws_rd=ssl\")\n",
    "\n",
    "# giving input as fruits and click on it\n",
    "\n",
    "driver.find_element(By.XPATH,'//input[@class=\"gLFyf\"]').send_keys(\"fruits\")\n",
    "driver.find_element(By.XPATH,'//button[@class=\"Tg7LZd\"]').click()\n",
    "\n",
    "# 10 fruits images\n",
    "\n",
    "fruits = []\n",
    "fruit = driver.find_elements(By.XPATH,'//div[@class=\"bRMDJf islir\"]//img')\n",
    "for i in fruit:\n",
    "    fruits.append(i.get_attribute(\"src\"))"
   ]
  },
  {
   "cell_type": "code",
   "execution_count": 6,
   "id": "825507a2",
   "metadata": {},
   "outputs": [
    {
     "name": "stdout",
     "output_type": "stream",
     "text": [
      "<selenium.webdriver.chrome.webdriver.WebDriver (session=\"626834390623a7349feb2c01dfbbcd9c\")>\n"
     ]
    }
   ],
   "source": [
    "# Importing necessary Libraries\n",
    "\n",
    "import selenium\n",
    "from selenium import webdriver\n",
    "from selenium.webdriver.chrome.service import Service\n",
    "\n",
    "s=Service(\"C:/Users/Downloads/chromedriver.exe\")\n",
    "driver=webdriver.Chrome(service=s)\n",
    "print(driver)\n",
    "import pandas as pd\n",
    "from selenium.webdriver.common.by import By \n",
    "import time"
   ]
  },
  {
   "cell_type": "code",
   "execution_count": 8,
   "id": "ef377968",
   "metadata": {},
   "outputs": [],
   "source": [
    "# Let's open the url \"images.google.com\"\n",
    "\n",
    "driver.get(\"https://images.google.com/?gws_rd=ssl\")\n",
    "\n",
    "# giving input as cars and click on it\n",
    "\n",
    "driver.find_element(By.XPATH,'//input[@class=\"gLFyf\"]').send_keys(\"cars\")\n",
    "driver.find_element(By.XPATH,'//button[@class=\"Tg7LZd\"]').click()\n",
    "# 10 car images\n",
    "\n",
    "cars = []\n",
    "car= driver.find_elements(By.XPATH,'//div[@class=\"bRMDJf islir\"]//img')\n",
    "for i in car:\n",
    "    cars.append(i.get_attribute(\"src\"))"
   ]
  },
  {
   "cell_type": "code",
   "execution_count": 9,
   "id": "592e8cf4",
   "metadata": {},
   "outputs": [
    {
     "name": "stdout",
     "output_type": "stream",
     "text": [
      "<selenium.webdriver.chrome.webdriver.WebDriver (session=\"5be8d6258390de73469ed99c995a902a\")>\n"
     ]
    }
   ],
   "source": [
    "# Importing necessary Libraries\n",
    "\n",
    "import selenium\n",
    "from selenium import webdriver\n",
    "from selenium.webdriver.chrome.service import Service\n",
    "\n",
    "s=Service(\"C:/Users/Downloads/chromedriver.exe\")\n",
    "driver=webdriver.Chrome(service=s)\n",
    "print(driver)\n",
    "import pandas as pd\n",
    "from selenium.webdriver.common.by import By \n",
    "import time"
   ]
  },
  {
   "cell_type": "code",
   "execution_count": 11,
   "id": "b0711b0b",
   "metadata": {},
   "outputs": [],
   "source": [
    "# Let's open the url \"images.google.com\"\n",
    "\n",
    "driver.get(\"https://images.google.com/?gws_rd=ssl\")\n",
    "\n",
    "# giving input as Machine Learning and click on it\n",
    "\n",
    "driver.find_element(By.XPATH,'//input[@class=\"gLFyf\"]').send_keys(\"Machine Learning\")\n",
    "driver.find_element(By.XPATH,'//button[@class=\"Tg7LZd\"]').click()\n",
    "\n",
    "# 10 Machine Learning images\n",
    "\n",
    "machine_learning = []\n",
    "machine= driver.find_elements(By.XPATH,'//div[@class=\"bRMDJf islir\"]//img')\n",
    "for i in machine:\n",
    "    machine_learning.append(i.get_attribute(\"src\"))"
   ]
  },
  {
   "cell_type": "code",
   "execution_count": 12,
   "id": "6e4618ba",
   "metadata": {},
   "outputs": [
    {
     "name": "stdout",
     "output_type": "stream",
     "text": [
      "<selenium.webdriver.chrome.webdriver.WebDriver (session=\"4b46761741ce2d716f4d8a5d6c2cd330\")>\n"
     ]
    }
   ],
   "source": [
    "# Importing necessary Libraries\n",
    "\n",
    "import selenium\n",
    "from selenium import webdriver\n",
    "from selenium.webdriver.chrome.service import Service\n",
    "\n",
    "s=Service(\"C:/Users/Downloads/chromedriver.exe\")\n",
    "driver=webdriver.Chrome(service=s)\n",
    "print(driver)\n",
    "import pandas as pd\n",
    "from selenium.webdriver.common.by import By \n",
    "import time"
   ]
  },
  {
   "cell_type": "code",
   "execution_count": 14,
   "id": "46547909",
   "metadata": {},
   "outputs": [],
   "source": [
    "# Let's open the url \"images.google.com\"\n",
    "\n",
    "driver.get(\"https://images.google.com/?gws_rd=ssl\")\n",
    "\n",
    "# giving input as fruits and click on it\n",
    "\n",
    "driver.find_element(By.XPATH,'//input[@class=\"gLFyf\"]').send_keys(\"Guitar\")\n",
    "driver.find_element(By.XPATH,'//button[@class=\"Tg7LZd\"]').click()\n",
    "\n",
    "# 10 Guitar images\n",
    "\n",
    "Guitar = []\n",
    "Guitar = driver.find_elements(By.XPATH,'//div[@class=\"bRMDJf islir\"]//img')\n",
    "for i in Guitar:\n",
    "    Guitar.append(i.get_attribute(\"src\"))"
   ]
  },
  {
   "cell_type": "code",
   "execution_count": 15,
   "id": "47e68f58",
   "metadata": {},
   "outputs": [
    {
     "name": "stdout",
     "output_type": "stream",
     "text": [
      "<selenium.webdriver.chrome.webdriver.WebDriver (session=\"ad123cbb272ffae5593b5a5bf427adac\")>\n"
     ]
    }
   ],
   "source": [
    "# Importing necessary Libraries\n",
    "\n",
    "import selenium\n",
    "from selenium import webdriver\n",
    "from selenium.webdriver.chrome.service import Service\n",
    "\n",
    "s=Service(\"C:/Users/Downloads/chromedriver.exe\")\n",
    "driver=webdriver.Chrome(service=s)\n",
    "print(driver)\n",
    "import pandas as pd\n",
    "from selenium.webdriver.common.by import By \n",
    "import time"
   ]
  },
  {
   "cell_type": "code",
   "execution_count": 17,
   "id": "cd4df215",
   "metadata": {},
   "outputs": [],
   "source": [
    "# Let's open the url \"images.google.com\"\n",
    "\n",
    "driver.get(\"https://images.google.com/?gws_rd=ssl\")\n",
    "\n",
    "# giving input as Cakes and click on it\n",
    "\n",
    "driver.find_element(By.XPATH,'//input[@class=\"gLFyf\"]').send_keys(\"cakes\")\n",
    "driver.find_element(By.XPATH,'//button[@class=\"Tg7LZd\"]').click()\n",
    "\n",
    "# 10 Cakes images\n",
    "\n",
    "Cakes = []\n",
    "Cake = driver.find_elements(By.XPATH,'//div[@class=\"bRMDJf islir\"]//img')\n",
    "for i in Cake:\n",
    "    Cakes.append(i.get_attribute(\"src\"))"
   ]
  },
  {
   "cell_type": "code",
   "execution_count": 19,
   "id": "7823b99c",
   "metadata": {},
   "outputs": [
    {
     "data": {
      "text/html": [
       "<div>\n",
       "<style scoped>\n",
       "    .dataframe tbody tr th:only-of-type {\n",
       "        vertical-align: middle;\n",
       "    }\n",
       "\n",
       "    .dataframe tbody tr th {\n",
       "        vertical-align: top;\n",
       "    }\n",
       "\n",
       "    .dataframe thead th {\n",
       "        text-align: right;\n",
       "    }\n",
       "</style>\n",
       "<table border=\"1\" class=\"dataframe\">\n",
       "  <thead>\n",
       "    <tr style=\"text-align: right;\">\n",
       "      <th></th>\n",
       "      <th>Fruit Images</th>\n",
       "      <th>Car Images</th>\n",
       "      <th>Machine Learning Images</th>\n",
       "      <th>Guitar Images</th>\n",
       "      <th>Cakes Images</th>\n",
       "    </tr>\n",
       "  </thead>\n",
       "  <tbody>\n",
       "  </tbody>\n",
       "</table>\n",
       "</div>"
      ],
      "text/plain": [
       "Empty DataFrame\n",
       "Columns: [Fruit Images, Car Images, Machine Learning Images, Guitar Images, Cakes Images]\n",
       "Index: []"
      ]
     },
     "execution_count": 19,
     "metadata": {},
     "output_type": "execute_result"
    }
   ],
   "source": [
    "# Data Frame\n",
    "\n",
    "Images = pd.DataFrame()\n",
    "Images[\"Fruit Images\"] = fruits[:10]\n",
    "Images[\"Car Images\"] = cars[:10]\n",
    "Images[\"Machine Learning Images\"] = machine_learning[:10]\n",
    "Images[\"Guitar Images\"] = Guitar[:10]\n",
    "Images[\"Cakes Images\"] = Cakes[:10]\n",
    "\n",
    "Images"
   ]
  },
  {
   "cell_type": "markdown",
   "id": "db92dbf4",
   "metadata": {},
   "source": [
    "Q4.Write a python program to search for a smartphone(e.g.: Oneplus Nord, pixel 4A, etc.) on www.flipkart.com and scrape\n",
    "   following details for all the search results displayed on 1st page. Details to be scraped: “Brand Name”, “Smartphone name”,\n",
    "   “Colour”, “RAM”, “Storage(ROM)”, “Primary Camera”, “Secondary Camera”, “Display Size”, “Battery Capacity”, “Price”, “Product\n",
    "   URL”. Incase if any of the details is missing then replace it by “- “. Save your results in a dataframe and CSV."
   ]
  },
  {
   "cell_type": "code",
   "execution_count": 75,
   "id": "68f5093f",
   "metadata": {},
   "outputs": [
    {
     "name": "stdout",
     "output_type": "stream",
     "text": [
      "<selenium.webdriver.chrome.webdriver.WebDriver (session=\"2b53b164b262327dff526ed6ba4c6729\")>\n"
     ]
    }
   ],
   "source": [
    "# Importing necessary Libraries\n",
    "\n",
    "import selenium\n",
    "from selenium import webdriver\n",
    "from selenium.webdriver.chrome.service import Service\n",
    "\n",
    "s=Service(\"C:/Users/Downloads/chromedriver.exe\")\n",
    "driver=webdriver.Chrome(service=s)\n",
    "print(driver)\n",
    "import pandas as pd\n",
    "from selenium.webdriver.common.by import By \n",
    "import time"
   ]
  },
  {
   "cell_type": "code",
   "execution_count": 77,
   "id": "21ed08d9",
   "metadata": {},
   "outputs": [],
   "source": [
    "# Opening url in Chrome browser\n",
    "url='http://www.flipkart.com/'\n",
    "driver.get(url)\n",
    "time.sleep(3)"
   ]
  },
  {
   "cell_type": "code",
   "execution_count": 78,
   "id": "dd97047b",
   "metadata": {},
   "outputs": [],
   "source": [
    "# Passing the suggested key\n",
    "\n",
    "driver.find_element(By.XPATH,'//input[@type=\"text\"]').send_keys(\"Redmi Mobiles\") # passing the keys to search box\n",
    "driver.find_element(By.XPATH,'//button[@class=\"L0Z3Pu\"]').click() # click on the search button"
   ]
  },
  {
   "cell_type": "code",
   "execution_count": 79,
   "id": "7393c3eb",
   "metadata": {},
   "outputs": [],
   "source": [
    "# Let's first find the product url\n",
    "\n",
    "product_url = []\n",
    "url = driver.find_elements(By.XPATH,'//a[@class=\"_1fQZEK\"]')\n",
    "for i in url:\n",
    "    product_url.append(i.get_attribute(\"href\"))"
   ]
  },
  {
   "cell_type": "code",
   "execution_count": 80,
   "id": "2f14c6a0",
   "metadata": {},
   "outputs": [],
   "source": [
    "# Empty List\n",
    "\n",
    "brand_name = []\n",
    "smartphone_name = []\n",
    "color = []\n",
    "ram = []\n",
    "storage = []\n",
    "primary_camera = []\n",
    "secondary_camera = []\n",
    "display_size = []\n",
    "battery_capecity = []\n",
    "price = []\n"
   ]
  },
  {
   "cell_type": "code",
   "execution_count": 81,
   "id": "1bd675c5",
   "metadata": {},
   "outputs": [],
   "source": [
    "# Filling the empty lists\n",
    "\n",
    "for i in product_url:\n",
    "    driver.get(i)\n",
    "    time.sleep(2)\n",
    "    driver.find_element(By.XPATH,'//button[@class=\"_2KpZ6l _1FH0tX\"]').click()\n",
    "    try:\n",
    "        name = driver.find_element(By.XPATH,'/html/body/div[1]/div/div[3]/div[1]/div[2]/div[1]/div[1]/div/div[4]/a')\n",
    "        brand_name.append(name.text)\n",
    "    except:\n",
    "        brand_name.append('-')\n",
    "    try:\n",
    "        smartphone = driver.find_element(By.XPATH,'//span[@class=\"B_NuCI\"]')\n",
    "    except:\n",
    "        smartphone_name.append('-')\n",
    "    try:\n",
    "        col = driver.find_element(By.XPATH,'/html/body/div[1]/div/div[3]/div[1]/div[2]/div[9]/div[5]/div/div[2]/div[1]/div[1]/table/tbody/tr[4]/td[2]/ul/li')\n",
    "        color.append(col.text)\n",
    "    except:\n",
    "        color.append('-')\n",
    "    try:\n",
    "        Ram = driver.find_element(By.XPATH,'/html/body/div[1]/div/div[3]/div[1]/div[2]/div[9]/div[4]/div/div[2]/div[1]/div[4]/table/tbody/tr[2]/td[2]/ul/li')\n",
    "        ram.append(Ram.text)\n",
    "    except:\n",
    "        ram.append('-')\n",
    "    try:\n",
    "        stor = driver.find_element(By.XPATH,'/html/body/div[1]/div/div[3]/div[1]/div[2]/div[9]/div[4]/div/div[2]/div[1]/div[4]/table/tbody/tr[1]/td[2]/ul/li')\n",
    "        storage.append(stor.text)\n",
    "    except:\n",
    "         storage.append('-')\n",
    "    try:\n",
    "        pri = driver.find_element(By.XPATH,'/html/body/div[1]/div/div[3]/div[1]/div[2]/div[9]/div[4]/div/div[2]/div[1]/div[5]/table/tbody/tr[2]/td[2]/ul/li')\n",
    "        primary_camera.append(pri.text)\n",
    "    except:\n",
    "        primary_camera.append('-')\n",
    "    try:\n",
    "        seco = driver.find_element(By.XPATH,'/html/body/div[1]/div/div[3]/div[1]/div[2]/div[9]/div[4]/div/div[2]/div[1]/div[5]/table/tbody/tr[5]/td[2]/ul/li')\n",
    "        secondary_camera.append(seco.text)\n",
    "    except:\n",
    "        secondary_camera.append('-')\n",
    "    try:\n",
    "        disp = driver.find_element(By.XPATH,'/html/body/div[1]/div/div[3]/div[1]/div[2]/div[9]/div[4]/div/div[2]/div[1]/div[2]/table/tbody/tr[1]/td[2]/ul/li')\n",
    "        display_size.append(disp.text)\n",
    "    except:\n",
    "        display_size.append('-')\n",
    "    try:\n",
    "        batt = driver.find_element(By.XPATH,'/html/body/div[1]/div/div[3]/div[1]/div[2]/div[9]/div[4]/div/div[2]/div[1]/div[10]/table/tbody/tr[1]/td[2]/ul/li')\n",
    "        battery_capecity.append(batt.text)\n",
    "    except:\n",
    "        battery_capecity.append('-')\n",
    "    try:\n",
    "        pri = driver.find_element(By.XPATH,'//div[@class=\"_30jeq3 _16Jk6d\"]')\n",
    "        price.append(pri.text)\n",
    "    except:\n",
    "        price.append('-')"
   ]
  },
  {
   "cell_type": "code",
   "execution_count": 83,
   "id": "c761802f",
   "metadata": {},
   "outputs": [
    {
     "data": {
      "text/html": [
       "<div>\n",
       "<style scoped>\n",
       "    .dataframe tbody tr th:only-of-type {\n",
       "        vertical-align: middle;\n",
       "    }\n",
       "\n",
       "    .dataframe tbody tr th {\n",
       "        vertical-align: top;\n",
       "    }\n",
       "\n",
       "    .dataframe thead th {\n",
       "        text-align: right;\n",
       "    }\n",
       "</style>\n",
       "<table border=\"1\" class=\"dataframe\">\n",
       "  <thead>\n",
       "    <tr style=\"text-align: right;\">\n",
       "      <th></th>\n",
       "      <th>Brand Name</th>\n",
       "      <th>Color</th>\n",
       "      <th>RAM</th>\n",
       "      <th>Internal Storage (ROM)</th>\n",
       "      <th>Primary Camera</th>\n",
       "      <th>Secondary Camera</th>\n",
       "      <th>Display Size</th>\n",
       "      <th>Battery Capecity</th>\n",
       "      <th>Price</th>\n",
       "      <th>Product URL</th>\n",
       "    </tr>\n",
       "  </thead>\n",
       "  <tbody>\n",
       "    <tr>\n",
       "      <th>1</th>\n",
       "      <td>REDMI Mobiles</td>\n",
       "      <td>Metallic Blue</td>\n",
       "      <td>-</td>\n",
       "      <td>-</td>\n",
       "      <td>-</td>\n",
       "      <td>-</td>\n",
       "      <td>-</td>\n",
       "      <td>-</td>\n",
       "      <td>₹7,099</td>\n",
       "      <td>https://www.flipkart.com/redmi-9i-sport-metall...</td>\n",
       "    </tr>\n",
       "    <tr>\n",
       "      <th>2</th>\n",
       "      <td>REDMI Mobiles</td>\n",
       "      <td>Coral Green</td>\n",
       "      <td>-</td>\n",
       "      <td>-</td>\n",
       "      <td>-</td>\n",
       "      <td>-</td>\n",
       "      <td>-</td>\n",
       "      <td>-</td>\n",
       "      <td>₹7,099</td>\n",
       "      <td>https://www.flipkart.com/redmi-9i-sport-coral-...</td>\n",
       "    </tr>\n",
       "    <tr>\n",
       "      <th>3</th>\n",
       "      <td>REDMI Mobiles</td>\n",
       "      <td>Caribbean Green</td>\n",
       "      <td>-</td>\n",
       "      <td>-</td>\n",
       "      <td>-</td>\n",
       "      <td>-</td>\n",
       "      <td>-</td>\n",
       "      <td>-</td>\n",
       "      <td>₹9,499</td>\n",
       "      <td>https://www.flipkart.com/redmi-10-caribbean-gr...</td>\n",
       "    </tr>\n",
       "    <tr>\n",
       "      <th>4</th>\n",
       "      <td>REDMI Mobiles</td>\n",
       "      <td>Carbon Black</td>\n",
       "      <td>-</td>\n",
       "      <td>-</td>\n",
       "      <td>-</td>\n",
       "      <td>-</td>\n",
       "      <td>-</td>\n",
       "      <td>-</td>\n",
       "      <td>₹7,099</td>\n",
       "      <td>https://www.flipkart.com/redmi-9i-sport-carbon...</td>\n",
       "    </tr>\n",
       "    <tr>\n",
       "      <th>5</th>\n",
       "      <td>REDMI Mobiles</td>\n",
       "      <td>Midnight Black</td>\n",
       "      <td>-</td>\n",
       "      <td>-</td>\n",
       "      <td>-</td>\n",
       "      <td>-</td>\n",
       "      <td>-</td>\n",
       "      <td>-</td>\n",
       "      <td>₹9,499</td>\n",
       "      <td>https://www.flipkart.com/redmi-10-midnight-bla...</td>\n",
       "    </tr>\n",
       "    <tr>\n",
       "      <th>6</th>\n",
       "      <td>REDMI Mobiles</td>\n",
       "      <td>Pacific Blue</td>\n",
       "      <td>-</td>\n",
       "      <td>-</td>\n",
       "      <td>-</td>\n",
       "      <td>-</td>\n",
       "      <td>-</td>\n",
       "      <td>-</td>\n",
       "      <td>₹9,499</td>\n",
       "      <td>https://www.flipkart.com/redmi-10-pacific-blue...</td>\n",
       "    </tr>\n",
       "    <tr>\n",
       "      <th>7</th>\n",
       "      <td>REDMI Mobiles</td>\n",
       "      <td>-</td>\n",
       "      <td>-</td>\n",
       "      <td>-</td>\n",
       "      <td>-</td>\n",
       "      <td>-</td>\n",
       "      <td>-</td>\n",
       "      <td>-</td>\n",
       "      <td>₹8,397</td>\n",
       "      <td>https://www.flipkart.com/redmi-9-activ-metalli...</td>\n",
       "    </tr>\n",
       "    <tr>\n",
       "      <th>8</th>\n",
       "      <td>REDMI Mobiles</td>\n",
       "      <td>-</td>\n",
       "      <td>-</td>\n",
       "      <td>-</td>\n",
       "      <td>-</td>\n",
       "      <td>-</td>\n",
       "      <td>-</td>\n",
       "      <td>-</td>\n",
       "      <td>₹8,299</td>\n",
       "      <td>https://www.flipkart.com/redmi-9-activ-carbon-...</td>\n",
       "    </tr>\n",
       "    <tr>\n",
       "      <th>9</th>\n",
       "      <td>REDMI Mobiles</td>\n",
       "      <td>Pacific Blue</td>\n",
       "      <td>-</td>\n",
       "      <td>-</td>\n",
       "      <td>-</td>\n",
       "      <td>-</td>\n",
       "      <td>-</td>\n",
       "      <td>-</td>\n",
       "      <td>₹11,999</td>\n",
       "      <td>https://www.flipkart.com/redmi-10-pacific-blue...</td>\n",
       "    </tr>\n",
       "    <tr>\n",
       "      <th>10</th>\n",
       "      <td>REDMI Mobiles</td>\n",
       "      <td>Bifrost Blue</td>\n",
       "      <td>-</td>\n",
       "      <td>-</td>\n",
       "      <td>-</td>\n",
       "      <td>-</td>\n",
       "      <td>-</td>\n",
       "      <td>-</td>\n",
       "      <td>₹11,499</td>\n",
       "      <td>https://www.flipkart.com/redmi-note-11-se-bifr...</td>\n",
       "    </tr>\n",
       "    <tr>\n",
       "      <th>11</th>\n",
       "      <td>REDMI Mobiles</td>\n",
       "      <td>Caribbean Green</td>\n",
       "      <td>-</td>\n",
       "      <td>-</td>\n",
       "      <td>-</td>\n",
       "      <td>-</td>\n",
       "      <td>-</td>\n",
       "      <td>-</td>\n",
       "      <td>₹11,999</td>\n",
       "      <td>https://www.flipkart.com/redmi-10-caribbean-gr...</td>\n",
       "    </tr>\n",
       "    <tr>\n",
       "      <th>12</th>\n",
       "      <td>Mi Mobiles</td>\n",
       "      <td>-</td>\n",
       "      <td>-</td>\n",
       "      <td>-</td>\n",
       "      <td>-</td>\n",
       "      <td>-</td>\n",
       "      <td>-</td>\n",
       "      <td>-</td>\n",
       "      <td>₹8,158</td>\n",
       "      <td>https://www.flipkart.com/redmi-10a-charcoal-bl...</td>\n",
       "    </tr>\n",
       "    <tr>\n",
       "      <th>13</th>\n",
       "      <td>Mi Mobiles</td>\n",
       "      <td>-</td>\n",
       "      <td>-</td>\n",
       "      <td>-</td>\n",
       "      <td>-</td>\n",
       "      <td>-</td>\n",
       "      <td>-</td>\n",
       "      <td>-</td>\n",
       "      <td>₹12,702</td>\n",
       "      <td>https://www.flipkart.com/redmi-10-power-sporty...</td>\n",
       "    </tr>\n",
       "    <tr>\n",
       "      <th>14</th>\n",
       "      <td>REDMI Mobiles</td>\n",
       "      <td>-</td>\n",
       "      <td>-</td>\n",
       "      <td>-</td>\n",
       "      <td>-</td>\n",
       "      <td>-</td>\n",
       "      <td>-</td>\n",
       "      <td>-</td>\n",
       "      <td>₹9,995</td>\n",
       "      <td>https://www.flipkart.com/redmi-10a-sport-sea-b...</td>\n",
       "    </tr>\n",
       "    <tr>\n",
       "      <th>15</th>\n",
       "      <td>REDMI Mobiles</td>\n",
       "      <td>-</td>\n",
       "      <td>4 GB</td>\n",
       "      <td>64 GB</td>\n",
       "      <td>Primary Camera</td>\n",
       "      <td>-</td>\n",
       "      <td>16.59 cm (6.53 inch)</td>\n",
       "      <td>-</td>\n",
       "      <td>₹8,425</td>\n",
       "      <td>https://www.flipkart.com/redmi-10a-sea-blue-64...</td>\n",
       "    </tr>\n",
       "    <tr>\n",
       "      <th>16</th>\n",
       "      <td>REDMI Mobiles</td>\n",
       "      <td>Phantom Black</td>\n",
       "      <td>-</td>\n",
       "      <td>-</td>\n",
       "      <td>-</td>\n",
       "      <td>-</td>\n",
       "      <td>-</td>\n",
       "      <td>-</td>\n",
       "      <td>₹12,999</td>\n",
       "      <td>https://www.flipkart.com/redmi-10-prime-phanto...</td>\n",
       "    </tr>\n",
       "    <tr>\n",
       "      <th>17</th>\n",
       "      <td>REDMI Mobiles</td>\n",
       "      <td>Space Black</td>\n",
       "      <td>-</td>\n",
       "      <td>-</td>\n",
       "      <td>-</td>\n",
       "      <td>-</td>\n",
       "      <td>-</td>\n",
       "      <td>-</td>\n",
       "      <td>₹11,499</td>\n",
       "      <td>https://www.flipkart.com/redmi-note-11-se-spac...</td>\n",
       "    </tr>\n",
       "    <tr>\n",
       "      <th>18</th>\n",
       "      <td>REDMI Mobiles</td>\n",
       "      <td>-</td>\n",
       "      <td>-</td>\n",
       "      <td>-</td>\n",
       "      <td>-</td>\n",
       "      <td>-</td>\n",
       "      <td>-</td>\n",
       "      <td>-</td>\n",
       "      <td>₹6,210</td>\n",
       "      <td>https://www.flipkart.com/redmi-a1-light-blue-3...</td>\n",
       "    </tr>\n",
       "    <tr>\n",
       "      <th>19</th>\n",
       "      <td>REDMI Mobiles</td>\n",
       "      <td>-</td>\n",
       "      <td>-</td>\n",
       "      <td>-</td>\n",
       "      <td>-</td>\n",
       "      <td>-</td>\n",
       "      <td>-</td>\n",
       "      <td>-</td>\n",
       "      <td>₹6,157</td>\n",
       "      <td>https://www.flipkart.com/redmi-a1-black-32-gb/...</td>\n",
       "    </tr>\n",
       "    <tr>\n",
       "      <th>20</th>\n",
       "      <td>REDMI Mobiles</td>\n",
       "      <td>-</td>\n",
       "      <td>-</td>\n",
       "      <td>-</td>\n",
       "      <td>-</td>\n",
       "      <td>-</td>\n",
       "      <td>-</td>\n",
       "      <td>-</td>\n",
       "      <td>₹6,272</td>\n",
       "      <td>https://www.flipkart.com/redmi-a1-light-green-...</td>\n",
       "    </tr>\n",
       "    <tr>\n",
       "      <th>21</th>\n",
       "      <td>REDMI Mobiles</td>\n",
       "      <td>Cosmic White</td>\n",
       "      <td>-</td>\n",
       "      <td>-</td>\n",
       "      <td>-</td>\n",
       "      <td>-</td>\n",
       "      <td>-</td>\n",
       "      <td>-</td>\n",
       "      <td>₹11,499</td>\n",
       "      <td>https://www.flipkart.com/redmi-note-11-se-cosm...</td>\n",
       "    </tr>\n",
       "    <tr>\n",
       "      <th>22</th>\n",
       "      <td>REDMI Mobiles</td>\n",
       "      <td>Thunder Purple</td>\n",
       "      <td>-</td>\n",
       "      <td>-</td>\n",
       "      <td>-</td>\n",
       "      <td>-</td>\n",
       "      <td>-</td>\n",
       "      <td>-</td>\n",
       "      <td>₹11,499</td>\n",
       "      <td>https://www.flipkart.com/redmi-note-11-se-thun...</td>\n",
       "    </tr>\n",
       "    <tr>\n",
       "      <th>23</th>\n",
       "      <td>REDMI Mobiles</td>\n",
       "      <td>Mint Green</td>\n",
       "      <td>-</td>\n",
       "      <td>-</td>\n",
       "      <td>-</td>\n",
       "      <td>-</td>\n",
       "      <td>-</td>\n",
       "      <td>-</td>\n",
       "      <td>₹14,999</td>\n",
       "      <td>https://www.flipkart.com/redmi-note-10t-5g-min...</td>\n",
       "    </tr>\n",
       "    <tr>\n",
       "      <th>24</th>\n",
       "      <td>REDMI Mobiles</td>\n",
       "      <td>-</td>\n",
       "      <td>-</td>\n",
       "      <td>-</td>\n",
       "      <td>-</td>\n",
       "      <td>-</td>\n",
       "      <td>-</td>\n",
       "      <td>-</td>\n",
       "      <td>₹10,105</td>\n",
       "      <td>https://www.flipkart.com/redmi-10a-sport-charc...</td>\n",
       "    </tr>\n",
       "  </tbody>\n",
       "</table>\n",
       "</div>"
      ],
      "text/plain": [
       "       Brand Name            Color   RAM Internal Storage (ROM)  \\\n",
       "1   REDMI Mobiles    Metallic Blue     -                      -   \n",
       "2   REDMI Mobiles      Coral Green     -                      -   \n",
       "3   REDMI Mobiles  Caribbean Green     -                      -   \n",
       "4   REDMI Mobiles     Carbon Black     -                      -   \n",
       "5   REDMI Mobiles   Midnight Black     -                      -   \n",
       "6   REDMI Mobiles     Pacific Blue     -                      -   \n",
       "7   REDMI Mobiles                -     -                      -   \n",
       "8   REDMI Mobiles                -     -                      -   \n",
       "9   REDMI Mobiles     Pacific Blue     -                      -   \n",
       "10  REDMI Mobiles     Bifrost Blue     -                      -   \n",
       "11  REDMI Mobiles  Caribbean Green     -                      -   \n",
       "12     Mi Mobiles                -     -                      -   \n",
       "13     Mi Mobiles                -     -                      -   \n",
       "14  REDMI Mobiles                -     -                      -   \n",
       "15  REDMI Mobiles                -  4 GB                  64 GB   \n",
       "16  REDMI Mobiles    Phantom Black     -                      -   \n",
       "17  REDMI Mobiles      Space Black     -                      -   \n",
       "18  REDMI Mobiles                -     -                      -   \n",
       "19  REDMI Mobiles                -     -                      -   \n",
       "20  REDMI Mobiles                -     -                      -   \n",
       "21  REDMI Mobiles     Cosmic White     -                      -   \n",
       "22  REDMI Mobiles   Thunder Purple     -                      -   \n",
       "23  REDMI Mobiles       Mint Green     -                      -   \n",
       "24  REDMI Mobiles                -     -                      -   \n",
       "\n",
       "    Primary Camera Secondary Camera          Display Size Battery Capecity  \\\n",
       "1                -                -                     -                -   \n",
       "2                -                -                     -                -   \n",
       "3                -                -                     -                -   \n",
       "4                -                -                     -                -   \n",
       "5                -                -                     -                -   \n",
       "6                -                -                     -                -   \n",
       "7                -                -                     -                -   \n",
       "8                -                -                     -                -   \n",
       "9                -                -                     -                -   \n",
       "10               -                -                     -                -   \n",
       "11               -                -                     -                -   \n",
       "12               -                -                     -                -   \n",
       "13               -                -                     -                -   \n",
       "14               -                -                     -                -   \n",
       "15  Primary Camera                -  16.59 cm (6.53 inch)                -   \n",
       "16               -                -                     -                -   \n",
       "17               -                -                     -                -   \n",
       "18               -                -                     -                -   \n",
       "19               -                -                     -                -   \n",
       "20               -                -                     -                -   \n",
       "21               -                -                     -                -   \n",
       "22               -                -                     -                -   \n",
       "23               -                -                     -                -   \n",
       "24               -                -                     -                -   \n",
       "\n",
       "      Price                                        Product URL  \n",
       "1    ₹7,099  https://www.flipkart.com/redmi-9i-sport-metall...  \n",
       "2    ₹7,099  https://www.flipkart.com/redmi-9i-sport-coral-...  \n",
       "3    ₹9,499  https://www.flipkart.com/redmi-10-caribbean-gr...  \n",
       "4    ₹7,099  https://www.flipkart.com/redmi-9i-sport-carbon...  \n",
       "5    ₹9,499  https://www.flipkart.com/redmi-10-midnight-bla...  \n",
       "6    ₹9,499  https://www.flipkart.com/redmi-10-pacific-blue...  \n",
       "7    ₹8,397  https://www.flipkart.com/redmi-9-activ-metalli...  \n",
       "8    ₹8,299  https://www.flipkart.com/redmi-9-activ-carbon-...  \n",
       "9   ₹11,999  https://www.flipkart.com/redmi-10-pacific-blue...  \n",
       "10  ₹11,499  https://www.flipkart.com/redmi-note-11-se-bifr...  \n",
       "11  ₹11,999  https://www.flipkart.com/redmi-10-caribbean-gr...  \n",
       "12   ₹8,158  https://www.flipkart.com/redmi-10a-charcoal-bl...  \n",
       "13  ₹12,702  https://www.flipkart.com/redmi-10-power-sporty...  \n",
       "14   ₹9,995  https://www.flipkart.com/redmi-10a-sport-sea-b...  \n",
       "15   ₹8,425  https://www.flipkart.com/redmi-10a-sea-blue-64...  \n",
       "16  ₹12,999  https://www.flipkart.com/redmi-10-prime-phanto...  \n",
       "17  ₹11,499  https://www.flipkart.com/redmi-note-11-se-spac...  \n",
       "18   ₹6,210  https://www.flipkart.com/redmi-a1-light-blue-3...  \n",
       "19   ₹6,157  https://www.flipkart.com/redmi-a1-black-32-gb/...  \n",
       "20   ₹6,272  https://www.flipkart.com/redmi-a1-light-green-...  \n",
       "21  ₹11,499  https://www.flipkart.com/redmi-note-11-se-cosm...  \n",
       "22  ₹11,499  https://www.flipkart.com/redmi-note-11-se-thun...  \n",
       "23  ₹14,999  https://www.flipkart.com/redmi-note-10t-5g-min...  \n",
       "24  ₹10,105  https://www.flipkart.com/redmi-10a-sport-charc...  "
      ]
     },
     "execution_count": 83,
     "metadata": {},
     "output_type": "execute_result"
    }
   ],
   "source": [
    "# Data Frame\n",
    "\n",
    "Redmi_Mobiles_Data = pd.DataFrame(index = list(range(1,25)))\n",
    "Redmi_Mobiles_Data[\"Brand Name\"] = brand_name\n",
    "#Redmi_Mobiles_Data[\"Smartphone Name\"] = smartphone_name\n",
    "Redmi_Mobiles_Data[\"Color\"] = color\n",
    "Redmi_Mobiles_Data[\"RAM\"] = ram\n",
    "Redmi_Mobiles_Data[\"Internal Storage (ROM)\"] = storage\n",
    "Redmi_Mobiles_Data[\"Primary Camera\"] = primary_camera\n",
    "Redmi_Mobiles_Data[\"Secondary Camera\"] = secondary_camera\n",
    "Redmi_Mobiles_Data[\"Display Size\"] = display_size\n",
    "Redmi_Mobiles_Data[\"Battery Capecity\"] = battery_capecity\n",
    "Redmi_Mobiles_Data[\"Price\"] = price\n",
    "Redmi_Mobiles_Data[\"Product URL\"] = product_url\n",
    "\n",
    "\n",
    "# Saving the data to csv file\n",
    "Redmi_Mobiles_Data.to_csv(r\"C:\\Users\\TCS\\Desktop\\Redmi_Mobiles_Data.csv\")\n",
    "\n",
    "\n",
    "Redmi_Mobiles_Data"
   ]
  },
  {
   "cell_type": "markdown",
   "id": "4f69d34a",
   "metadata": {},
   "source": [
    "Q 5. Write a program to scrap geospatial coordinates (latitude, longitude) of a city searched on google maps"
   ]
  },
  {
   "cell_type": "code",
   "execution_count": 71,
   "id": "2eab516d",
   "metadata": {},
   "outputs": [
    {
     "name": "stdout",
     "output_type": "stream",
     "text": [
      "<selenium.webdriver.chrome.webdriver.WebDriver (session=\"368644645d7732d7682170c11e9a472a\")>\n"
     ]
    }
   ],
   "source": [
    "# Importing necessary Libraries\n",
    "\n",
    "import selenium\n",
    "from selenium import webdriver\n",
    "from selenium.webdriver.chrome.service import Service\n",
    "\n",
    "s=Service(\"C:/Users/Downloads/chromedriver.exe\")\n",
    "driver=webdriver.Chrome(service=s)\n",
    "print(driver)\n",
    "import pandas as pd\n",
    "from selenium.webdriver.common.by import By \n",
    "import time"
   ]
  },
  {
   "cell_type": "code",
   "execution_count": 72,
   "id": "ca411510",
   "metadata": {},
   "outputs": [],
   "source": [
    "# Connect to the webpage\n",
    "\n",
    "url = \"https://www.google.com/maps/\"\n",
    "driver.get(url)\n",
    "time.sleep(3)"
   ]
  },
  {
   "cell_type": "code",
   "execution_count": 74,
   "id": "ad35c7c7",
   "metadata": {},
   "outputs": [],
   "source": [
    "# Finding search menu By XPATH\n",
    "Search=driver.find_element(By.XPATH,'//*[@id=\"searchboxinput\"') \n",
    "# clearing any previous input in search bar\n",
    "Search.clear()\n",
    "# Feeding input specified by user to search menu through send keys\n",
    "Search.send_keys('Delhi')\n",
    "# Finding Search button for clicking through XPATH\n",
    "Search_button=driver.find_element(By.XPATH,'//*[@id=\"searchboxinput\"')  \n",
    "# Clicking search button\n",
    "Search_button.click()"
   ]
  },
  {
   "cell_type": "code",
   "execution_count": 75,
   "id": "45876763",
   "metadata": {},
   "outputs": [
    {
     "name": "stdout",
     "output_type": "stream",
     "text": [
      "Current url : https://www.google.com/maps/@28.6490624,77.3685248,14z\n"
     ]
    }
   ],
   "source": [
    "current_url=driver.current_url\n",
    "print('Current url :',current_url)"
   ]
  },
  {
   "cell_type": "code",
   "execution_count": 76,
   "id": "889b151b",
   "metadata": {},
   "outputs": [
    {
     "name": "stdout",
     "output_type": "stream",
     "text": [
      "Latitude of given Location: 28.6490624\n",
      "Longitude of given Location: 77.3685248\n"
     ]
    }
   ],
   "source": [
    "try:\n",
    "    if \"@\" in current_url:\n",
    "        location=current_url.split('@')[1].split(',*/data')[0].split(',')\n",
    "        location\n",
    "        print('Latitude of given Location:',location[0])\n",
    "        print('Longitude of given Location:',location[1])\n",
    "except:\n",
    "    print('Location detail not found in url')"
   ]
  },
  {
   "cell_type": "markdown",
   "id": "6eb4666e",
   "metadata": {},
   "source": [
    "Q 6. Write a program to scrap details of all the funding deals for second quarter (i.e Jan 21 – March 21) from trak.in."
   ]
  },
  {
   "cell_type": "code",
   "execution_count": 118,
   "id": "ede2ba3a",
   "metadata": {},
   "outputs": [
    {
     "name": "stdout",
     "output_type": "stream",
     "text": [
      "<selenium.webdriver.chrome.webdriver.WebDriver (session=\"d0369fd3b35c16a75c174a682e3070cf\")>\n"
     ]
    }
   ],
   "source": [
    "# Importing necessary Libraries\n",
    "\n",
    "import selenium\n",
    "from selenium import webdriver\n",
    "from selenium.webdriver.chrome.service import Service\n",
    "\n",
    "s=Service(\"C:/Users/Downloads/chromedriver.exe\")\n",
    "driver=webdriver.Chrome(service=s)\n",
    "print(driver)\n",
    "import pandas as pd\n",
    "from selenium.webdriver.common.by import By \n",
    "import time"
   ]
  },
  {
   "cell_type": "code",
   "execution_count": 119,
   "id": "ef5de640",
   "metadata": {},
   "outputs": [],
   "source": [
    "# Opening url in chrome browser\n",
    "url='https://www.trak.in'\n",
    "driver.get(url)\n",
    "time.sleep(3)"
   ]
  },
  {
   "cell_type": "code",
   "execution_count": 120,
   "id": "ac7e0521",
   "metadata": {},
   "outputs": [],
   "source": [
    "# Clicking funding deals button\n",
    "Funding_deals=driver.find_element(By.XPATH,'//li[@id=\"menu-item-1237902\"]/a').get_attribute('href')\n",
    "driver.get(Funding_deals)"
   ]
  },
  {
   "cell_type": "markdown",
   "id": "5c642479",
   "metadata": {},
   "source": [
    "Q7. Write a program to scrap all the available details of best gaming laptops from digit.in."
   ]
  },
  {
   "cell_type": "code",
   "execution_count": 127,
   "id": "c51b2db4",
   "metadata": {},
   "outputs": [
    {
     "name": "stdout",
     "output_type": "stream",
     "text": [
      "<selenium.webdriver.chrome.webdriver.WebDriver (session=\"7456265b5d268724937b4ac99c6cd36d\")>\n"
     ]
    }
   ],
   "source": [
    "# Importing necessary Libraries\n",
    "\n",
    "import selenium\n",
    "from selenium import webdriver\n",
    "from selenium.webdriver.chrome.service import Service\n",
    "\n",
    "s=Service(\"C:/Users/Downloads/chromedriver.exe\")\n",
    "driver=webdriver.Chrome(service=s)\n",
    "print(driver)\n",
    "import pandas as pd\n",
    "from selenium.webdriver.common.by import By \n",
    "import time"
   ]
  },
  {
   "cell_type": "code",
   "execution_count": 128,
   "id": "469e6973",
   "metadata": {},
   "outputs": [],
   "source": [
    "# Opening url in chrome browser\n",
    "url='https://www.digit.in'\n",
    "driver.get(url)\n",
    "time.sleep(3)"
   ]
  },
  {
   "cell_type": "code",
   "execution_count": 129,
   "id": "6b80999a",
   "metadata": {},
   "outputs": [],
   "source": [
    "# Clicking on top 10 option button in menu bar\n",
    "driver.find_element(By.XPATH,'//div[@class=\"menu\"]/ul/li[4]/a').click()\n",
    "time.sleep(3)\n",
    "\n",
    "# Clicking on Laptop under table\n",
    "driver.find_element(By.XPATH,'//div[@class=\"categoty_list\"]/button[2]').click()\n",
    "\n",
    "# Opening Best gaming laptops link\n",
    "Gaming_lappy=driver.find_element(By.XPATH,'//div[@id=\"laptops\"]/div[3]/a').get_attribute('href')\n",
    "driver.get(Gaming_lappy)\n",
    "time.sleep(3)"
   ]
  },
  {
   "cell_type": "code",
   "execution_count": 130,
   "id": "0148270d",
   "metadata": {},
   "outputs": [],
   "source": [
    "# Making Empty list for scraping data\n",
    "Laptop_model =[]\n",
    "OS =[]\n",
    "Display = []\n",
    "Processor =[]\n",
    "Memory =[]\n",
    "Weight =[]\n",
    "Dimension =[]\n",
    "Graphics_processor =[]\n",
    "Price =[]"
   ]
  },
  {
   "cell_type": "code",
   "execution_count": 131,
   "id": "9998a169",
   "metadata": {},
   "outputs": [],
   "source": [
    "# Extracting Laptop model via Xpath\n",
    "for i in range(0,11):\n",
    "    laptop_model=driver.find_elements(By.XPATH,'//*[@id=\"toptenIdevent{}\"]/a/h3'.format(i))\n",
    "    for j in laptop_model:\n",
    "     Laptop_model.append(j.text)"
   ]
  },
  {
   "cell_type": "code",
   "execution_count": 132,
   "id": "d05a3f20",
   "metadata": {},
   "outputs": [],
   "source": [
    "# Extracting OS on Laptop model via Xpath\n",
    "os=driver.find_elements(By.XPATH,'//div[@class=\"Spcs-details\"]/table/tbody/tr[3]/td[3]')\n",
    "for j in os:\n",
    "    OS.append(j.text)  "
   ]
  },
  {
   "cell_type": "code",
   "execution_count": 133,
   "id": "0ae655d8",
   "metadata": {},
   "outputs": [],
   "source": [
    "# Extracting Display vertical via Xpath\n",
    "display=driver.find_elements(By.XPATH,'//div[@class=\"Spcs-details\"]/table/tbody/tr[4]/td[3]')\n",
    "for j in display:\n",
    "    Display.append(j.text)"
   ]
  },
  {
   "cell_type": "code",
   "execution_count": 134,
   "id": "44537b6b",
   "metadata": {},
   "outputs": [],
   "source": [
    "# Extracting Processor via xpath\n",
    "processor=driver.find_elements(By.XPATH,'//div[@class=\"Spcs-details\"]/table/tbody/tr[5]/td[3]')\n",
    "for j in processor:\n",
    "    Processor.append(j.text)"
   ]
  },
  {
   "cell_type": "code",
   "execution_count": 135,
   "id": "e61160f3",
   "metadata": {},
   "outputs": [],
   "source": [
    "# Extracting Memory via xpath\n",
    "memory=driver.find_elements(By.XPATH,'//div[@class=\"Spcs-details\"]/table/tbody/tr[6]/td[3]')\n",
    "for j in memory:\n",
    "    Memory.append(j.text)"
   ]
  },
  {
   "cell_type": "code",
   "execution_count": 136,
   "id": "b9355dbf",
   "metadata": {},
   "outputs": [],
   "source": [
    "# Extracting Laptop Weight via xpath\n",
    "weight=driver.find_elements(By.XPATH,'//div[@class=\"Spcs-details\"]/table/tbody/tr[7]/td[3]')\n",
    "for j in weight:\n",
    "    Weight.append(j.text)"
   ]
  },
  {
   "cell_type": "code",
   "execution_count": 137,
   "id": "8f2a8ce9",
   "metadata": {},
   "outputs": [],
   "source": [
    "# Extracting Dimension via xpath\n",
    "dimension=driver.find_elements(By.XPATH,'//div[@class=\"Spcs-details\"]/table/tbody/tr[8]/td[3]')\n",
    "for j in dimension:\n",
    "    Dimension.append(j.text)"
   ]
  },
  {
   "cell_type": "code",
   "execution_count": 138,
   "id": "ba801fea",
   "metadata": {},
   "outputs": [],
   "source": [
    "# Extracting Graphics Processor type via xpath\n",
    "graphics_processor=driver.find_elements(By.XPATH,'//div[@class=\"Spcs-details\"]/table/tbody/tr[9]/td[3]')\n",
    "for j in graphics_processor:\n",
    "    Graphics_processor.append(j.text)"
   ]
  },
  {
   "cell_type": "code",
   "execution_count": 139,
   "id": "e9a51b74",
   "metadata": {},
   "outputs": [],
   "source": [
    "# Extracting Laptop Price type via xpath\n",
    "price=driver.find_elements(By.XPATH,'//table[@id=\"summtable\"]//tr//td[3]')\n",
    "for j in price:\n",
    "    Price.append(j.text)"
   ]
  },
  {
   "cell_type": "code",
   "execution_count": 144,
   "id": "d321f556",
   "metadata": {},
   "outputs": [
    {
     "ename": "ValueError",
     "evalue": "All arrays must be of the same length",
     "output_type": "error",
     "traceback": [
      "\u001b[1;31m---------------------------------------------------------------------------\u001b[0m",
      "\u001b[1;31mValueError\u001b[0m                                Traceback (most recent call last)",
      "\u001b[1;32m~\\AppData\\Local\\Temp/ipykernel_3188/430568897.py\u001b[0m in \u001b[0;36m<module>\u001b[1;34m\u001b[0m\n\u001b[0;32m      1\u001b[0m \u001b[1;31m#Make data frame\u001b[0m\u001b[1;33m\u001b[0m\u001b[1;33m\u001b[0m\u001b[0m\n\u001b[1;32m----> 2\u001b[1;33m \u001b[0mGaming_Laptops\u001b[0m\u001b[1;33m=\u001b[0m\u001b[0mpd\u001b[0m\u001b[1;33m.\u001b[0m\u001b[0mDataFrame\u001b[0m\u001b[1;33m(\u001b[0m\u001b[1;33m{\u001b[0m\u001b[1;34m\"Laptop Model\"\u001b[0m\u001b[1;33m:\u001b[0m\u001b[0mLaptop_model\u001b[0m\u001b[1;33m,\u001b[0m\u001b[1;34m\"Price\"\u001b[0m\u001b[1;33m:\u001b[0m\u001b[0mPrice\u001b[0m\u001b[1;33m}\u001b[0m\u001b[1;33m)\u001b[0m\u001b[1;33m\u001b[0m\u001b[1;33m\u001b[0m\u001b[0m\n\u001b[0m\u001b[0;32m      3\u001b[0m \u001b[0mprint\u001b[0m\u001b[1;33m(\u001b[0m\u001b[1;34m'\\033[1m'\u001b[0m\u001b[1;33m+\u001b[0m\u001b[1;34m'Best Gaming Laptop :'\u001b[0m\u001b[1;33m+\u001b[0m\u001b[1;34m'\\033[0m'\u001b[0m\u001b[1;33m)\u001b[0m\u001b[1;33m\u001b[0m\u001b[1;33m\u001b[0m\u001b[0m\n\u001b[0;32m      4\u001b[0m \u001b[0mGaming_Laptops\u001b[0m\u001b[1;33m\u001b[0m\u001b[1;33m\u001b[0m\u001b[0m\n",
      "\u001b[1;32m~\\anaconda3\\lib\\site-packages\\pandas\\core\\frame.py\u001b[0m in \u001b[0;36m__init__\u001b[1;34m(self, data, index, columns, dtype, copy)\u001b[0m\n\u001b[0;32m    612\u001b[0m         \u001b[1;32melif\u001b[0m \u001b[0misinstance\u001b[0m\u001b[1;33m(\u001b[0m\u001b[0mdata\u001b[0m\u001b[1;33m,\u001b[0m \u001b[0mdict\u001b[0m\u001b[1;33m)\u001b[0m\u001b[1;33m:\u001b[0m\u001b[1;33m\u001b[0m\u001b[1;33m\u001b[0m\u001b[0m\n\u001b[0;32m    613\u001b[0m             \u001b[1;31m# GH#38939 de facto copy defaults to False only in non-dict cases\u001b[0m\u001b[1;33m\u001b[0m\u001b[1;33m\u001b[0m\u001b[0m\n\u001b[1;32m--> 614\u001b[1;33m             \u001b[0mmgr\u001b[0m \u001b[1;33m=\u001b[0m \u001b[0mdict_to_mgr\u001b[0m\u001b[1;33m(\u001b[0m\u001b[0mdata\u001b[0m\u001b[1;33m,\u001b[0m \u001b[0mindex\u001b[0m\u001b[1;33m,\u001b[0m \u001b[0mcolumns\u001b[0m\u001b[1;33m,\u001b[0m \u001b[0mdtype\u001b[0m\u001b[1;33m=\u001b[0m\u001b[0mdtype\u001b[0m\u001b[1;33m,\u001b[0m \u001b[0mcopy\u001b[0m\u001b[1;33m=\u001b[0m\u001b[0mcopy\u001b[0m\u001b[1;33m,\u001b[0m \u001b[0mtyp\u001b[0m\u001b[1;33m=\u001b[0m\u001b[0mmanager\u001b[0m\u001b[1;33m)\u001b[0m\u001b[1;33m\u001b[0m\u001b[1;33m\u001b[0m\u001b[0m\n\u001b[0m\u001b[0;32m    615\u001b[0m         \u001b[1;32melif\u001b[0m \u001b[0misinstance\u001b[0m\u001b[1;33m(\u001b[0m\u001b[0mdata\u001b[0m\u001b[1;33m,\u001b[0m \u001b[0mma\u001b[0m\u001b[1;33m.\u001b[0m\u001b[0mMaskedArray\u001b[0m\u001b[1;33m)\u001b[0m\u001b[1;33m:\u001b[0m\u001b[1;33m\u001b[0m\u001b[1;33m\u001b[0m\u001b[0m\n\u001b[0;32m    616\u001b[0m             \u001b[1;32mimport\u001b[0m \u001b[0mnumpy\u001b[0m\u001b[1;33m.\u001b[0m\u001b[0mma\u001b[0m\u001b[1;33m.\u001b[0m\u001b[0mmrecords\u001b[0m \u001b[1;32mas\u001b[0m \u001b[0mmrecords\u001b[0m\u001b[1;33m\u001b[0m\u001b[1;33m\u001b[0m\u001b[0m\n",
      "\u001b[1;32m~\\anaconda3\\lib\\site-packages\\pandas\\core\\internals\\construction.py\u001b[0m in \u001b[0;36mdict_to_mgr\u001b[1;34m(data, index, columns, dtype, typ, copy)\u001b[0m\n\u001b[0;32m    462\u001b[0m         \u001b[1;31m# TODO: can we get rid of the dt64tz special case above?\u001b[0m\u001b[1;33m\u001b[0m\u001b[1;33m\u001b[0m\u001b[0m\n\u001b[0;32m    463\u001b[0m \u001b[1;33m\u001b[0m\u001b[0m\n\u001b[1;32m--> 464\u001b[1;33m     return arrays_to_mgr(\n\u001b[0m\u001b[0;32m    465\u001b[0m         \u001b[0marrays\u001b[0m\u001b[1;33m,\u001b[0m \u001b[0mdata_names\u001b[0m\u001b[1;33m,\u001b[0m \u001b[0mindex\u001b[0m\u001b[1;33m,\u001b[0m \u001b[0mcolumns\u001b[0m\u001b[1;33m,\u001b[0m \u001b[0mdtype\u001b[0m\u001b[1;33m=\u001b[0m\u001b[0mdtype\u001b[0m\u001b[1;33m,\u001b[0m \u001b[0mtyp\u001b[0m\u001b[1;33m=\u001b[0m\u001b[0mtyp\u001b[0m\u001b[1;33m,\u001b[0m \u001b[0mconsolidate\u001b[0m\u001b[1;33m=\u001b[0m\u001b[0mcopy\u001b[0m\u001b[1;33m\u001b[0m\u001b[1;33m\u001b[0m\u001b[0m\n\u001b[0;32m    466\u001b[0m     )\n",
      "\u001b[1;32m~\\anaconda3\\lib\\site-packages\\pandas\\core\\internals\\construction.py\u001b[0m in \u001b[0;36marrays_to_mgr\u001b[1;34m(arrays, arr_names, index, columns, dtype, verify_integrity, typ, consolidate)\u001b[0m\n\u001b[0;32m    117\u001b[0m         \u001b[1;31m# figure out the index, if necessary\u001b[0m\u001b[1;33m\u001b[0m\u001b[1;33m\u001b[0m\u001b[0m\n\u001b[0;32m    118\u001b[0m         \u001b[1;32mif\u001b[0m \u001b[0mindex\u001b[0m \u001b[1;32mis\u001b[0m \u001b[1;32mNone\u001b[0m\u001b[1;33m:\u001b[0m\u001b[1;33m\u001b[0m\u001b[1;33m\u001b[0m\u001b[0m\n\u001b[1;32m--> 119\u001b[1;33m             \u001b[0mindex\u001b[0m \u001b[1;33m=\u001b[0m \u001b[0m_extract_index\u001b[0m\u001b[1;33m(\u001b[0m\u001b[0marrays\u001b[0m\u001b[1;33m)\u001b[0m\u001b[1;33m\u001b[0m\u001b[1;33m\u001b[0m\u001b[0m\n\u001b[0m\u001b[0;32m    120\u001b[0m         \u001b[1;32melse\u001b[0m\u001b[1;33m:\u001b[0m\u001b[1;33m\u001b[0m\u001b[1;33m\u001b[0m\u001b[0m\n\u001b[0;32m    121\u001b[0m             \u001b[0mindex\u001b[0m \u001b[1;33m=\u001b[0m \u001b[0mensure_index\u001b[0m\u001b[1;33m(\u001b[0m\u001b[0mindex\u001b[0m\u001b[1;33m)\u001b[0m\u001b[1;33m\u001b[0m\u001b[1;33m\u001b[0m\u001b[0m\n",
      "\u001b[1;32m~\\anaconda3\\lib\\site-packages\\pandas\\core\\internals\\construction.py\u001b[0m in \u001b[0;36m_extract_index\u001b[1;34m(data)\u001b[0m\n\u001b[0;32m    633\u001b[0m             \u001b[0mlengths\u001b[0m \u001b[1;33m=\u001b[0m \u001b[0mlist\u001b[0m\u001b[1;33m(\u001b[0m\u001b[0mset\u001b[0m\u001b[1;33m(\u001b[0m\u001b[0mraw_lengths\u001b[0m\u001b[1;33m)\u001b[0m\u001b[1;33m)\u001b[0m\u001b[1;33m\u001b[0m\u001b[1;33m\u001b[0m\u001b[0m\n\u001b[0;32m    634\u001b[0m             \u001b[1;32mif\u001b[0m \u001b[0mlen\u001b[0m\u001b[1;33m(\u001b[0m\u001b[0mlengths\u001b[0m\u001b[1;33m)\u001b[0m \u001b[1;33m>\u001b[0m \u001b[1;36m1\u001b[0m\u001b[1;33m:\u001b[0m\u001b[1;33m\u001b[0m\u001b[1;33m\u001b[0m\u001b[0m\n\u001b[1;32m--> 635\u001b[1;33m                 \u001b[1;32mraise\u001b[0m \u001b[0mValueError\u001b[0m\u001b[1;33m(\u001b[0m\u001b[1;34m\"All arrays must be of the same length\"\u001b[0m\u001b[1;33m)\u001b[0m\u001b[1;33m\u001b[0m\u001b[1;33m\u001b[0m\u001b[0m\n\u001b[0m\u001b[0;32m    636\u001b[0m \u001b[1;33m\u001b[0m\u001b[0m\n\u001b[0;32m    637\u001b[0m             \u001b[1;32mif\u001b[0m \u001b[0mhave_dicts\u001b[0m\u001b[1;33m:\u001b[0m\u001b[1;33m\u001b[0m\u001b[1;33m\u001b[0m\u001b[0m\n",
      "\u001b[1;31mValueError\u001b[0m: All arrays must be of the same length"
     ]
    }
   ],
   "source": [
    "#Make data frame\n",
    "Gaming_Laptops=pd.DataFrame({\"Laptop Model\":Laptop_model,\"Price\":Price, \"OS\":OS,\"Display\":Display,\"Memory\":Memory,\"Processor\":Processor,\n",
    "                 \"Weight\":Weight,\"Dimension\":Dimension,\"Graphical processor\":Graphics_processor})\n",
    "print('\\033[1m'+'Best Gaming Laptop :'+'\\033[0m')\n",
    "Gaming_Laptops"
   ]
  },
  {
   "cell_type": "markdown",
   "id": "24b393a5",
   "metadata": {},
   "source": [
    "Q8. Write a python program to scrape the details for all billionares from www.forbes.com. Details to be scrapped: \"Rank\",\"Name\", \"Net Worth\", \"Age\", \"Citizenship\", \"Source\", \"Industry\"."
   ]
  },
  {
   "cell_type": "code",
   "execution_count": 77,
   "id": "8ecddc62",
   "metadata": {},
   "outputs": [
    {
     "name": "stdout",
     "output_type": "stream",
     "text": [
      "<selenium.webdriver.chrome.webdriver.WebDriver (session=\"bf1bc1bf1280b0fa794d471abe3395c6\")>\n"
     ]
    }
   ],
   "source": [
    "# Importing necessary Libraries\n",
    "\n",
    "import selenium\n",
    "from selenium import webdriver\n",
    "from selenium.webdriver.chrome.service import Service\n",
    "\n",
    "s=Service(\"C:/Users/Downloads/chromedriver.exe\")\n",
    "driver=webdriver.Chrome(service=s)\n",
    "print(driver)\n",
    "import pandas as pd\n",
    "from selenium.webdriver.common.by import By \n",
    "import time"
   ]
  },
  {
   "cell_type": "code",
   "execution_count": 78,
   "id": "ba01a937",
   "metadata": {},
   "outputs": [],
   "source": [
    "# Opening url in chrome browser\n",
    "url=\"https://www.forbes.com/billionaires/\"\n",
    "driver.get(url)\n",
    "time.sleep(1)"
   ]
  },
  {
   "cell_type": "code",
   "execution_count": 79,
   "id": "dbff81ee",
   "metadata": {},
   "outputs": [],
   "source": [
    "# Empty list to scrap data\n",
    "Rank =[]\n",
    "Name=[]\n",
    "Net_worth=[]\n",
    "Age=[]\n",
    "Citizenship=[]\n",
    "Source=[]\n",
    "Industry=[]"
   ]
  },
  {
   "cell_type": "code",
   "execution_count": 80,
   "id": "a84288b9",
   "metadata": {},
   "outputs": [],
   "source": [
    "# Extracting Rank No\n",
    "rank=driver.find_elements(By.XPATH,'//div[@class=\"rank\"]')\n",
    "for i in rank:\n",
    "    Rank.append(i.text)"
   ]
  },
  {
   "cell_type": "code",
   "execution_count": 82,
   "id": "a1d061c8",
   "metadata": {},
   "outputs": [],
   "source": [
    "# Extacting name\n",
    "name=driver.find_elements(By.XPATH,'//div[@class=\"personName\"]/div')\n",
    "for i in name:\n",
    "    Name.append(i.text)"
   ]
  },
  {
   "cell_type": "code",
   "execution_count": 83,
   "id": "bb6be85e",
   "metadata": {},
   "outputs": [],
   "source": [
    "#Extracting Net worth\n",
    "net=driver.find_elements(By.XPATH,'//div[@class=\"netWorth\"]/div')\n",
    "for i in net:\n",
    "    Net_worth.append(i.text)"
   ]
  },
  {
   "cell_type": "code",
   "execution_count": 84,
   "id": "e1d9bc97",
   "metadata": {},
   "outputs": [],
   "source": [
    "# Extracting Age\n",
    "age=driver.find_elements(By.XPATH,'//div[@class=\"age\"]/div')\n",
    "for i in age:\n",
    "    Age.append(i.text)"
   ]
  },
  {
   "cell_type": "code",
   "execution_count": 85,
   "id": "aa5f4706",
   "metadata": {},
   "outputs": [],
   "source": [
    " # Extracting Citizenship\n",
    "citizen=driver.find_elements(By.XPATH,'//div[@class=\"countryOfCitizenship\"]')\n",
    "for i in citizen:\n",
    "    Citizenship.append(i.text)"
   ]
  },
  {
   "cell_type": "code",
   "execution_count": 86,
   "id": "5a02e73b",
   "metadata": {},
   "outputs": [],
   "source": [
    "# Extracting Source\n",
    "try:\n",
    "    source=driver.find_elements(By.XPATH,'//div[@class=\"source-column\"]')\n",
    "    for i in source:\n",
    "        Source.append(i.text)\n",
    "except:\n",
    "    source=driver.find_elements(By.XPATH,'//*[@id=\"jeff-bezos\"]/div[6]/div/div[1]')\n",
    "    Source.append(i.text)"
   ]
  },
  {
   "cell_type": "code",
   "execution_count": 87,
   "id": "775f0ab0",
   "metadata": {},
   "outputs": [],
   "source": [
    "# Extracting Industry\n",
    "industry=driver.find_elements(By.XPATH,\"//div[@class='category']//div\")\n",
    "for i in industry:\n",
    "    Industry.append(i.text)"
   ]
  },
  {
   "cell_type": "code",
   "execution_count": 88,
   "id": "045324de",
   "metadata": {},
   "outputs": [
    {
     "name": "stdout",
     "output_type": "stream",
     "text": [
      "\u001b[1m Forbes World Billionaires List Dec 2022 :\u001b[0m\n"
     ]
    },
    {
     "data": {
      "text/html": [
       "<div>\n",
       "<style scoped>\n",
       "    .dataframe tbody tr th:only-of-type {\n",
       "        vertical-align: middle;\n",
       "    }\n",
       "\n",
       "    .dataframe tbody tr th {\n",
       "        vertical-align: top;\n",
       "    }\n",
       "\n",
       "    .dataframe thead th {\n",
       "        text-align: right;\n",
       "    }\n",
       "</style>\n",
       "<table border=\"1\" class=\"dataframe\">\n",
       "  <thead>\n",
       "    <tr style=\"text-align: right;\">\n",
       "      <th></th>\n",
       "      <th>Rank</th>\n",
       "      <th>Name</th>\n",
       "      <th>Net Worth</th>\n",
       "      <th>Age</th>\n",
       "      <th>Citizenship</th>\n",
       "      <th>Source</th>\n",
       "      <th>Industry</th>\n",
       "    </tr>\n",
       "  </thead>\n",
       "  <tbody>\n",
       "    <tr>\n",
       "      <th>0</th>\n",
       "      <td>1.</td>\n",
       "      <td>Elon Musk</td>\n",
       "      <td>$219 B</td>\n",
       "      <td>50</td>\n",
       "      <td>United States</td>\n",
       "      <td>Tesla, SpaceX</td>\n",
       "      <td>Automotive</td>\n",
       "    </tr>\n",
       "    <tr>\n",
       "      <th>1</th>\n",
       "      <td>2.</td>\n",
       "      <td>Jeff Bezos</td>\n",
       "      <td>$171 B</td>\n",
       "      <td>58</td>\n",
       "      <td>United States</td>\n",
       "      <td>Amazon</td>\n",
       "      <td>Technology</td>\n",
       "    </tr>\n",
       "    <tr>\n",
       "      <th>2</th>\n",
       "      <td>3.</td>\n",
       "      <td>Bernard Arnault &amp; family</td>\n",
       "      <td>$158 B</td>\n",
       "      <td>73</td>\n",
       "      <td>France</td>\n",
       "      <td>LVMH</td>\n",
       "      <td>Fashion &amp; Retail</td>\n",
       "    </tr>\n",
       "    <tr>\n",
       "      <th>3</th>\n",
       "      <td>4.</td>\n",
       "      <td>Bill Gates</td>\n",
       "      <td>$129 B</td>\n",
       "      <td>66</td>\n",
       "      <td>United States</td>\n",
       "      <td>Microsoft</td>\n",
       "      <td>Technology</td>\n",
       "    </tr>\n",
       "    <tr>\n",
       "      <th>4</th>\n",
       "      <td>5.</td>\n",
       "      <td>Warren Buffett</td>\n",
       "      <td>$118 B</td>\n",
       "      <td>91</td>\n",
       "      <td>United States</td>\n",
       "      <td>Berkshire Hathaway</td>\n",
       "      <td>Finance &amp; Investments</td>\n",
       "    </tr>\n",
       "    <tr>\n",
       "      <th>...</th>\n",
       "      <td>...</td>\n",
       "      <td>...</td>\n",
       "      <td>...</td>\n",
       "      <td>...</td>\n",
       "      <td>...</td>\n",
       "      <td>...</td>\n",
       "      <td>...</td>\n",
       "    </tr>\n",
       "    <tr>\n",
       "      <th>195</th>\n",
       "      <td>192.</td>\n",
       "      <td>Marcel Herrmann Telles</td>\n",
       "      <td>$10.3 B</td>\n",
       "      <td>72</td>\n",
       "      <td>Brazil</td>\n",
       "      <td>beer</td>\n",
       "      <td>Food &amp; Beverage</td>\n",
       "    </tr>\n",
       "    <tr>\n",
       "      <th>196</th>\n",
       "      <td>197.</td>\n",
       "      <td>Leon Black</td>\n",
       "      <td>$10 B</td>\n",
       "      <td>70</td>\n",
       "      <td>United States</td>\n",
       "      <td>private equity</td>\n",
       "      <td>Finance &amp; Investments</td>\n",
       "    </tr>\n",
       "    <tr>\n",
       "      <th>197</th>\n",
       "      <td>197.</td>\n",
       "      <td>Joe Gebbia</td>\n",
       "      <td>$10 B</td>\n",
       "      <td>40</td>\n",
       "      <td>United States</td>\n",
       "      <td>Airbnb</td>\n",
       "      <td>Technology</td>\n",
       "    </tr>\n",
       "    <tr>\n",
       "      <th>198</th>\n",
       "      <td>197.</td>\n",
       "      <td>David Geffen</td>\n",
       "      <td>$10 B</td>\n",
       "      <td>79</td>\n",
       "      <td>United States</td>\n",
       "      <td>movies, record labels</td>\n",
       "      <td>Media &amp; Entertainment</td>\n",
       "    </tr>\n",
       "    <tr>\n",
       "      <th>199</th>\n",
       "      <td>197.</td>\n",
       "      <td>Yu Renrong</td>\n",
       "      <td>$10 B</td>\n",
       "      <td>56</td>\n",
       "      <td>China</td>\n",
       "      <td>semiconductors</td>\n",
       "      <td>Manufacturing</td>\n",
       "    </tr>\n",
       "  </tbody>\n",
       "</table>\n",
       "<p>200 rows × 7 columns</p>\n",
       "</div>"
      ],
      "text/plain": [
       "     Rank                      Name Net Worth Age    Citizenship  \\\n",
       "0      1.                 Elon Musk    $219 B  50  United States   \n",
       "1      2.                Jeff Bezos    $171 B  58  United States   \n",
       "2      3.  Bernard Arnault & family    $158 B  73         France   \n",
       "3      4.                Bill Gates    $129 B  66  United States   \n",
       "4      5.            Warren Buffett    $118 B  91  United States   \n",
       "..    ...                       ...       ...  ..            ...   \n",
       "195  192.    Marcel Herrmann Telles   $10.3 B  72         Brazil   \n",
       "196  197.                Leon Black     $10 B  70  United States   \n",
       "197  197.                Joe Gebbia     $10 B  40  United States   \n",
       "198  197.              David Geffen     $10 B  79  United States   \n",
       "199  197.                Yu Renrong     $10 B  56          China   \n",
       "\n",
       "                    Source               Industry  \n",
       "0            Tesla, SpaceX             Automotive  \n",
       "1                   Amazon             Technology  \n",
       "2                     LVMH       Fashion & Retail  \n",
       "3                Microsoft             Technology  \n",
       "4       Berkshire Hathaway  Finance & Investments  \n",
       "..                     ...                    ...  \n",
       "195                   beer        Food & Beverage  \n",
       "196         private equity  Finance & Investments  \n",
       "197                 Airbnb             Technology  \n",
       "198  movies, record labels  Media & Entertainment  \n",
       "199         semiconductors          Manufacturing  \n",
       "\n",
       "[200 rows x 7 columns]"
      ]
     },
     "execution_count": 88,
     "metadata": {},
     "output_type": "execute_result"
    }
   ],
   "source": [
    "#creating dataframe\n",
    "Forbes_list=pd.DataFrame({'Rank':Rank,'Name':Name,'Net Worth':Net_worth,'Age':Age,'Citizenship':Citizenship,\n",
    "                'Source':Source,'Industry':Industry})\n",
    "print('\\033[1m'+' Forbes World Billionaires List Dec 2022 :'+'\\033[0m')\n",
    "Forbes_list"
   ]
  },
  {
   "cell_type": "markdown",
   "id": "97561340",
   "metadata": {},
   "source": [
    "Q9. Write a program to extract at least 500 Commments, Comment upvote and time when comment was posted from any YouTube Video"
   ]
  },
  {
   "cell_type": "code",
   "execution_count": 4,
   "id": "b6493d18",
   "metadata": {},
   "outputs": [
    {
     "name": "stdout",
     "output_type": "stream",
     "text": [
      "<selenium.webdriver.chrome.webdriver.WebDriver (session=\"f9b2d8b278c207d940e873f997fa8031\")>\n"
     ]
    }
   ],
   "source": [
    "# Importing necessary Libraries\n",
    "\n",
    "import selenium\n",
    "from selenium import webdriver\n",
    "from selenium.webdriver.chrome.service import Service\n",
    "\n",
    "s=Service(\"C:/Users/Downloads/chromedriver.exe\")\n",
    "driver=webdriver.Chrome(service=s)\n",
    "print(driver)\n",
    "import pandas as pd\n",
    "from selenium.webdriver.common.by import By \n",
    "import time"
   ]
  },
  {
   "cell_type": "code",
   "execution_count": 5,
   "id": "09d66736",
   "metadata": {},
   "outputs": [],
   "source": [
    "# Opening url in chrome browser\n",
    "url=\"https://www.youtube.com\"\n",
    "driver.get(url)\n",
    "time.sleep(3)"
   ]
  },
  {
   "cell_type": "code",
   "execution_count": 6,
   "id": "40015733",
   "metadata": {},
   "outputs": [],
   "source": [
    "# Finding search menu by xpath\n",
    "Search=driver.find_element(By.XPATH,'//input[@id=\"search\"]') \n",
    "# Feeding input video name by user to search menu through send keys\n",
    "Search.send_keys('Healing Ragas - Sitar Tabla - Brindavan Sarang - Classical Instrumental Fusion B.Sivaramakrishna Rao')\n",
    "# Finding Search button for clicking through xpath\n",
    "Search_button=driver.find_element(By.XPATH,'//button[@id=\"search-icon-legacy\"]/yt-icon')  \n",
    "# Clicking search button\n",
    "Search_button.click()\n",
    "time.sleep(2)"
   ]
  },
  {
   "cell_type": "code",
   "execution_count": 7,
   "id": "fe27f55e",
   "metadata": {},
   "outputs": [],
   "source": [
    "# Clicking on video\n",
    "link = driver.find_element(By.XPATH,\"//yt-formatted-string[@class ='style-scope ytd-video-renderer']\")\n",
    "link.click()\n",
    "time.sleep(3)"
   ]
  },
  {
   "cell_type": "code",
   "execution_count": 8,
   "id": "1431cac3",
   "metadata": {},
   "outputs": [],
   "source": [
    "# Scrolling window using ScrollBy method from 0 pixel to 15000 pixel\n",
    "driver.execute_script(\"window.scrollBy(0,1000000)\",\"\")"
   ]
  },
  {
   "cell_type": "code",
   "execution_count": 9,
   "id": "84346cfa",
   "metadata": {},
   "outputs": [],
   "source": [
    "# Empty lists to scrap data\n",
    "Comments = []\n",
    "Comment_posted_ago = []\n",
    "Timeline = []\n",
    "Likes = []\n",
    "No_of_Likes = []"
   ]
  },
  {
   "cell_type": "code",
   "execution_count": 11,
   "id": "5af41082",
   "metadata": {},
   "outputs": [
    {
     "name": "stderr",
     "output_type": "stream",
     "text": [
      "0it [00:00, ?it/s]\n"
     ]
    }
   ],
   "source": [
    "#extracting comment on video\n",
    "comment = driver.find_elements(By.ID,\"content-text\")\n",
    "time.sleep(3)\n",
    "from tqdm import tqdm\n",
    "for i in tqdm(comment):\n",
    "    if i.text is None:\n",
    "        Comments.append(\"--\")\n",
    "    else:\n",
    "        Comments.append(i.text)\n",
    "time.sleep(2)"
   ]
  },
  {
   "cell_type": "code",
   "execution_count": 12,
   "id": "92e1ea79",
   "metadata": {},
   "outputs": [
    {
     "name": "stderr",
     "output_type": "stream",
     "text": [
      "0it [00:00, ?it/s]\n",
      "0it [00:00, ?it/s]\n"
     ]
    }
   ],
   "source": [
    "# Extracting time of commenting\n",
    "timeline = driver.find_elements(By.XPATH,\"//a[contains(text(),'ago')]\")\n",
    "time.sleep(3)\n",
    "from tqdm import tqdm\n",
    "for i in tqdm(timeline):\n",
    "    if i.text is None:\n",
    "        Timeline.append(\"-\")\n",
    "    else:\n",
    "        Timeline.append(i.text)\n",
    "for i in tqdm(range(0,len(Timeline),2)):\n",
    "    Comment_posted_ago.append(Timeline[i])"
   ]
  },
  {
   "cell_type": "code",
   "execution_count": 13,
   "id": "8e3ded31",
   "metadata": {},
   "outputs": [],
   "source": [
    "# scrape the comment likes\n",
    "like = driver.find_elements(By.XPATH,\"//span[@class='style-scope ytd-comment-action-buttons-renderer']\")\n",
    "for i in like:\n",
    "    Likes.append(i.text)\n",
    "    \n",
    "for i in range(1,len(Likes),2):\n",
    "    No_of_Likes.append(Likes[i])\n",
    "time.sleep(3)"
   ]
  },
  {
   "cell_type": "code",
   "execution_count": 14,
   "id": "ae260ed1",
   "metadata": {},
   "outputs": [
    {
     "data": {
      "text/plain": [
       "(0, 0, 0)"
      ]
     },
     "execution_count": 14,
     "metadata": {},
     "output_type": "execute_result"
    }
   ],
   "source": [
    "len(Comments),len(Comment_posted_ago),len(No_of_Likes)"
   ]
  },
  {
   "cell_type": "code",
   "execution_count": 15,
   "id": "79d6338f",
   "metadata": {},
   "outputs": [
    {
     "data": {
      "text/html": [
       "<div>\n",
       "<style scoped>\n",
       "    .dataframe tbody tr th:only-of-type {\n",
       "        vertical-align: middle;\n",
       "    }\n",
       "\n",
       "    .dataframe tbody tr th {\n",
       "        vertical-align: top;\n",
       "    }\n",
       "\n",
       "    .dataframe thead th {\n",
       "        text-align: right;\n",
       "    }\n",
       "</style>\n",
       "<table border=\"1\" class=\"dataframe\">\n",
       "  <thead>\n",
       "    <tr style=\"text-align: right;\">\n",
       "      <th></th>\n",
       "      <th>Comments</th>\n",
       "      <th>Comment Posted Ago</th>\n",
       "      <th>No. of Likes</th>\n",
       "    </tr>\n",
       "  </thead>\n",
       "  <tbody>\n",
       "  </tbody>\n",
       "</table>\n",
       "</div>"
      ],
      "text/plain": [
       "Empty DataFrame\n",
       "Columns: [Comments, Comment Posted Ago, No. of Likes]\n",
       "Index: []"
      ]
     },
     "execution_count": 15,
     "metadata": {},
     "output_type": "execute_result"
    }
   ],
   "source": [
    "YT=pd.DataFrame({})\n",
    "YT['Comments']=Comments[:500]\n",
    "YT['Comment Posted Ago']=Comment_posted_ago[:500]\n",
    "YT['No. of Likes']=No_of_Likes[:500]\n",
    "YT"
   ]
  },
  {
   "cell_type": "markdown",
   "id": "37907f83",
   "metadata": {},
   "source": [
    "Q10. Write a python program to scrape a data for all available hostels from https://www.hostelworld.com/ in \"London\" location. You have to scrape hostel name, distance from city centre, ratings, total reviews, overall reviews, privates from price, dorms from price, facilities and property description."
   ]
  },
  {
   "cell_type": "code",
   "execution_count": 16,
   "id": "342f0312",
   "metadata": {},
   "outputs": [
    {
     "name": "stdout",
     "output_type": "stream",
     "text": [
      "<selenium.webdriver.chrome.webdriver.WebDriver (session=\"0e735c4f2b858a07bb3e390ec97261e5\")>\n"
     ]
    }
   ],
   "source": [
    "# Importing necessary Libraries\n",
    "\n",
    "import selenium\n",
    "from selenium import webdriver\n",
    "from selenium.webdriver.chrome.service import Service\n",
    "\n",
    "s=Service(\"C:/Users/Downloads/chromedriver.exe\")\n",
    "driver=webdriver.Chrome(service=s)\n",
    "print(driver)\n",
    "import pandas as pd\n",
    "from selenium.webdriver.common.by import By \n",
    "import time"
   ]
  },
  {
   "cell_type": "code",
   "execution_count": 17,
   "id": "7cced58c",
   "metadata": {},
   "outputs": [],
   "source": [
    "# Opening url in chrome browser\n",
    "url=\"https://www.hostelworld.com\"\n",
    "driver.get(url)\n",
    "time.sleep(2)"
   ]
  },
  {
   "cell_type": "code",
   "execution_count": 22,
   "id": "a638455b",
   "metadata": {},
   "outputs": [],
   "source": [
    "#locating the location search bar\n",
    "Search = driver.find_element(By.XPATH,'//input[@id=\"search-input-field\"]')\n",
    "\n",
    "# Sending input London in search bar\n",
    "Search.send_keys(\"London\")\n",
    "time.sleep(1)\n",
    "\n",
    "#select london\n",
    "london = driver.find_element(By.XPATH,'//*[@id=\"predicted-search-results\"]/li[2]/div')\n",
    "london.click()\n",
    "time.sleep(2)\n",
    "\n",
    "# do click on search button\n",
    "Search_button = driver.find_element(By.XPATH,'//*[@id=\"search-button\"]')\n",
    "Search_button.click()"
   ]
  },
  {
   "cell_type": "code",
   "execution_count": 23,
   "id": "bbe08938",
   "metadata": {},
   "outputs": [],
   "source": [
    "#lets find required data\n",
    "hostel_name = []\n",
    "distance = []\n",
    "pvt_prices = []\n",
    "dorms_price = []\n",
    "rating = []\n",
    "reviews = []\n",
    "over_all = []\n",
    "facilities = []\n",
    "description =[]\n",
    "product_url = []"
   ]
  },
  {
   "cell_type": "code",
   "execution_count": 24,
   "id": "9789c8dd",
   "metadata": {},
   "outputs": [],
   "source": [
    "for i in driver.find_elements(By.XPATH,\"//div[@class = 'pagination-item pagination-current' or @class='pagination-item']\"):\n",
    "    i.click()\n",
    "    time.sleep(4)\n",
    "    \n",
    "    #fetching hostel name\n",
    "    try:\n",
    "        name = driver.find_elements(By.XPATH,\"//h2[@class='title title-6']\")\n",
    "        for i in name:\n",
    "            hostel_name.append(i.text)\n",
    "    except NoSuchElementException:\n",
    "        hostel_name.append('-')\n",
    "        \n",
    "    #fetching distance from city centre\n",
    "    \n",
    "    try:\n",
    "        dist = driver.find_elements(By.XPATH,\"//div[@class='subtitle body-3']//a//span[1]\")\n",
    "        for i in dist:\n",
    "            distance.append(i.text.replace('Hostel - ',''))\n",
    "    except NoSuchElementException:\n",
    "        distance.append('-')\n",
    "        \n",
    "    for i in driver.find_elements(By.XPATH,\"//div[@class='prices-col']\"):\n",
    "    #fetch privates from price\n",
    "        try:\n",
    "            pvt_price = driver.find_element(By.XPATH,\"//a[@class='prices']//div[1]//div\")\n",
    "            pvt_prices.append(pvt_price.text)\n",
    "        except NoSuchElementException:\n",
    "            pvt_prices.append('-')\n",
    "    #fetching dorms from price\n",
    "    for i in driver.find_elements(By.XPATH,\"//div[@class='prices-col']\"):\n",
    "        try:\n",
    "            dorms = driver.find_element(By.XPATH,\"//a[@class='prices']//div[2]//div\")\n",
    "            dorms_price.append(dorms.text)\n",
    "        except NoSuchElementException:\n",
    "            dorms_price.append('-')\n",
    "    #fetching facilities\n",
    "    try:\n",
    "        fac1 = driver.find_elements(By.XPATH,\"//div[@class='has-wifi']\")\n",
    "        fac2 = driver.find_elements(By.XPATH,\"//div[@class='has-sanitation']\")\n",
    "        for i in fac1:\n",
    "            for j in fac2:\n",
    "                facilities.append(i.text +', '+ j.text )\n",
    "    except NoSuchElementException:\n",
    "        facilities.append('-')\n",
    "    #lets fetch url of each hostel\n",
    "    p_url = driver.find_elements(By.XPATH,\"//div[@class='prices-col']//a[2]\")\n",
    "    for i in p_url:\n",
    "        product_url.append(i.get_attribute('href'))\n",
    "\n",
    "for i in product_url:\n",
    "    driver.get(i)\n",
    "    time.sleep(3)\n",
    "    #lets click on show more button for description\n",
    "    try:\n",
    "        driver.find_element(By.XPATH,\"//a[@class='toggle-content']\").click()\n",
    "        time.sleep(5)\n",
    "    except NoSuchElementException:\n",
    "        pass\n",
    "    #fetching ratings\n",
    "    try:\n",
    "        rat = driver.find_element(By.XPATH,\"//div[@class='score orange big' or @class='score gray big']\")\n",
    "        rating.append(rat.text)\n",
    "    except NoSuchElementException:\n",
    "        rating.append('-')\n",
    "    #fetching total reviews\n",
    "        \n",
    "    try:\n",
    "        rws = driver.find_element(By.XPATH,\"//div[@class='reviews']\")\n",
    "        reviews.append(rws.text.replace('Total Reviews',''))\n",
    "    except NoSuchElementException:\n",
    "        reviews.append('-')\n",
    "    #fetch overall review\n",
    "    try:\n",
    "        overall_rw = driver.find_element(By.XPATH,\"//div[@class='keyword']//span\")\n",
    "        over_all.append(overall_rw.text)\n",
    "    except NoSuchElementException:\n",
    "        over_all.append('-')\n",
    "    #fetch property description \n",
    "    try:\n",
    "        disc = driver.find_element(By.XPATH,\"//div[@class='content']\")\n",
    "        description.append(disc.text)\n",
    "    except NoSuchElementException:\n",
    "        over_all.append('-')\n"
   ]
  },
  {
   "cell_type": "code",
   "execution_count": 25,
   "id": "0fd6cfae",
   "metadata": {},
   "outputs": [
    {
     "name": "stdout",
     "output_type": "stream",
     "text": [
      "\u001b[1m Hostel Available in London :\u001b[0m\n"
     ]
    },
    {
     "data": {
      "text/html": [
       "<div>\n",
       "<style scoped>\n",
       "    .dataframe tbody tr th:only-of-type {\n",
       "        vertical-align: middle;\n",
       "    }\n",
       "\n",
       "    .dataframe tbody tr th {\n",
       "        vertical-align: top;\n",
       "    }\n",
       "\n",
       "    .dataframe thead th {\n",
       "        text-align: right;\n",
       "    }\n",
       "</style>\n",
       "<table border=\"1\" class=\"dataframe\">\n",
       "  <thead>\n",
       "    <tr style=\"text-align: right;\">\n",
       "      <th></th>\n",
       "      <th>Hostel name</th>\n",
       "      <th>Distance from city centre</th>\n",
       "      <th>ratings</th>\n",
       "      <th>Total reviews</th>\n",
       "      <th>Overall review</th>\n",
       "      <th>Privates from price</th>\n",
       "      <th>Dorms from price</th>\n",
       "      <th>Facilities</th>\n",
       "      <th>Property Description</th>\n",
       "    </tr>\n",
       "  </thead>\n",
       "  <tbody>\n",
       "  </tbody>\n",
       "</table>\n",
       "</div>"
      ],
      "text/plain": [
       "Empty DataFrame\n",
       "Columns: [Hostel name, Distance from city centre, ratings, Total reviews, Overall review, Privates from price, Dorms from price, Facilities, Property Description]\n",
       "Index: []"
      ]
     },
     "execution_count": 25,
     "metadata": {},
     "output_type": "execute_result"
    }
   ],
   "source": [
    "#creating dataframe\n",
    "data = list(zip(hostel_name,distance,rating,reviews,over_all,pvt_prices,dorms_price,facilities,description))       \n",
    "Hostel = pd.DataFrame(data, columns = [\"Hostel name\",\"Distance from city centre\",\"ratings\",\"Total reviews\",\"Overall review\",\"Privates from price\",\"Dorms from price\",\"Facilities\",\"Property Description\"])\n",
    "print('\\033[1m'+' Hostel Available in London :'+'\\033[0m')\n",
    "Hostel.head()"
   ]
  },
  {
   "cell_type": "code",
   "execution_count": null,
   "id": "4eb64406",
   "metadata": {},
   "outputs": [],
   "source": []
  }
 ],
 "metadata": {
  "kernelspec": {
   "display_name": "Python 3 (ipykernel)",
   "language": "python",
   "name": "python3"
  },
  "language_info": {
   "codemirror_mode": {
    "name": "ipython",
    "version": 3
   },
   "file_extension": ".py",
   "mimetype": "text/x-python",
   "name": "python",
   "nbconvert_exporter": "python",
   "pygments_lexer": "ipython3",
   "version": "3.9.7"
  }
 },
 "nbformat": 4,
 "nbformat_minor": 5
}
